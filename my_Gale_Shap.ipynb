{
 "cells": [
  {
   "cell_type": "code",
   "execution_count": null,
   "metadata": {
    "collapsed": true
   },
   "outputs": [],
   "source": [
    "function my_Gale_Shap(p_prefs::Matrix{Int}, r_prefs::Matrix{Int}, p_caps::Vector{Int}, c_caps::Vector{Int})\n",
    "    m = size(p_prefs, 2)\n",
    "    n = size(r_prefs, 2)\n",
    "    \n",
    "    K = sum(p_caps)\n",
    "    L = sum(p_caps)\n",
    "    \n",
    "    p_matched = zeros(Int64, m)\n",
    "    r_matched = zeros(Int64, L)\n",
    "    prop_pool = collect(1:m)"
   ]
  }
 ],
 "metadata": {
  "kernelspec": {
   "display_name": "Julia 0.4.6",
   "language": "julia",
   "name": "julia-0.4"
  },
  "language_info": {
   "file_extension": ".jl",
   "mimetype": "application/julia",
   "name": "julia",
   "version": "0.4.6"
  }
 },
 "nbformat": 4,
 "nbformat_minor": 0
}
