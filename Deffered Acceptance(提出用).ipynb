{
 "cells": [
  {
   "cell_type": "markdown",
   "metadata": {},
   "source": [
    "# many to one"
   ]
  },
  {
   "cell_type": "markdown",
   "metadata": {},
   "source": [
    "[many to oneのcode](https://github.com/SUZUKITAISHI/matching/blob/master/my_Gale_Shap.jl)"
   ]
  },
  {
   "cell_type": "code",
   "execution_count": 1,
   "metadata": {
    "collapsed": false
   },
   "outputs": [
    {
     "data": {
      "text/plain": [
       "my_Gale_Shap (generic function with 2 methods)"
      ]
     },
     "execution_count": 1,
     "metadata": {},
     "output_type": "execute_result"
    }
   ],
   "source": [
    "include(\"my_Gale_Shap.jl\")"
   ]
  },
  {
   "cell_type": "markdown",
   "metadata": {},
   "source": [
    "# Example"
   ]
  },
  {
   "cell_type": "code",
   "execution_count": 2,
   "metadata": {
    "collapsed": false
   },
   "outputs": [
    {
     "ename": "LoadError",
     "evalue": "LoadError: MethodError: `update` has no method matching update(::ASCIIString)\nwhile loading In[2], in expression starting on line 1",
     "output_type": "error",
     "traceback": [
      "LoadError: MethodError: `update` has no method matching update(::ASCIIString)\nwhile loading In[2], in expression starting on line 1",
      ""
     ]
    }
   ],
   "source": [
    "Pkg.update(\"https://github.com/oyamad/Matching.jl\")"
   ]
  },
  {
   "cell_type": "code",
   "execution_count": 3,
   "metadata": {
    "collapsed": false
   },
   "outputs": [],
   "source": [
    "using Matching"
   ]
  },
  {
   "cell_type": "code",
   "execution_count": 4,
   "metadata": {
    "collapsed": true
   },
   "outputs": [],
   "source": [
    "prop_prefs, resp_prefs = random_prefs(4, 3);"
   ]
  },
  {
   "cell_type": "code",
   "execution_count": 5,
   "metadata": {
    "collapsed": false
   },
   "outputs": [
    {
     "data": {
      "text/plain": [
       "4x4 Array{Int64,2}:\n",
       " 2  2  3  1\n",
       " 3  0  1  0\n",
       " 0  1  0  2\n",
       " 1  3  2  3"
      ]
     },
     "execution_count": 5,
     "metadata": {},
     "output_type": "execute_result"
    }
   ],
   "source": [
    "prop_prefs"
   ]
  },
  {
   "cell_type": "code",
   "execution_count": 6,
   "metadata": {
    "collapsed": false
   },
   "outputs": [
    {
     "data": {
      "text/plain": [
       "5x3 Array{Int64,2}:\n",
       " 4  1  1\n",
       " 3  0  0\n",
       " 1  3  2\n",
       " 0  2  4\n",
       " 2  4  3"
      ]
     },
     "execution_count": 6,
     "metadata": {},
     "output_type": "execute_result"
    }
   ],
   "source": [
    "resp_prefs"
   ]
  },
  {
   "cell_type": "code",
   "execution_count": 7,
   "metadata": {
    "collapsed": false
   },
   "outputs": [
    {
     "data": {
      "text/plain": [
       "([2,0,0,1],[4,1,0])"
      ]
     },
     "execution_count": 7,
     "metadata": {},
     "output_type": "execute_result"
    }
   ],
   "source": [
    "my_Gale_Shap(prop_prefs, resp_prefs)"
   ]
  },
  {
   "cell_type": "code",
   "execution_count": 8,
   "metadata": {
    "collapsed": true
   },
   "outputs": [],
   "source": [
    "s_prefs, c_prefs, caps = random_prefs(4, 3, ReturnCaps);"
   ]
  },
  {
   "cell_type": "code",
   "execution_count": 9,
   "metadata": {
    "collapsed": false
   },
   "outputs": [
    {
     "data": {
      "text/plain": [
       "4x4 Array{Int64,2}:\n",
       " 3  2  3  1\n",
       " 1  3  2  3\n",
       " 2  1  0  2\n",
       " 0  0  1  0"
      ]
     },
     "execution_count": 9,
     "metadata": {},
     "output_type": "execute_result"
    }
   ],
   "source": [
    "s_prefs"
   ]
  },
  {
   "cell_type": "code",
   "execution_count": 10,
   "metadata": {
    "collapsed": false
   },
   "outputs": [
    {
     "data": {
      "text/plain": [
       "5x3 Array{Int64,2}:\n",
       " 2  2  2\n",
       " 4  3  1\n",
       " 1  0  0\n",
       " 3  4  4\n",
       " 0  1  3"
      ]
     },
     "execution_count": 10,
     "metadata": {},
     "output_type": "execute_result"
    }
   ],
   "source": [
    "c_prefs"
   ]
  },
  {
   "cell_type": "code",
   "execution_count": 11,
   "metadata": {
    "collapsed": false
   },
   "outputs": [
    {
     "data": {
      "text/plain": [
       "3-element Array{Int64,1}:\n",
       " 2\n",
       " 1\n",
       " 3"
      ]
     },
     "execution_count": 11,
     "metadata": {},
     "output_type": "execute_result"
    }
   ],
   "source": [
    "caps"
   ]
  },
  {
   "cell_type": "code",
   "execution_count": 12,
   "metadata": {
    "collapsed": false
   },
   "outputs": [
    {
     "data": {
      "text/plain": [
       "([3,2,0,1],[4,0,2,1,0,0])"
      ]
     },
     "execution_count": 12,
     "metadata": {},
     "output_type": "execute_result"
    }
   ],
   "source": [
    "my_Gale_Shap(s_prefs, c_prefs, caps)"
   ]
  },
  {
   "cell_type": "code",
   "execution_count": 13,
   "metadata": {
    "collapsed": false
   },
   "outputs": [
    {
     "name": "stderr",
     "output_type": "stream",
     "text": [
      "INFO: Nothing to be done\n"
     ]
    }
   ],
   "source": [
    "Pkg.add(\"BaseTestNext\")"
   ]
  },
  {
   "cell_type": "code",
   "execution_count": 14,
   "metadata": {
    "collapsed": false
   },
   "outputs": [
    {
     "name": "stdout",
     "output_type": "stream",
     "text": [
      "my_Gale_Shap: many-to-one with caps 1: Error During Test\n",
      "  Got an exception of type BoundsError outside of a @test\n",
      "  BoundsError: attempt to access ([1,2,3,0],[1,2,3])\n",
      "    at index [3]\n",
      "   [inlined code] from C:\\Users\\taishi\\Documents\\matching\\test_deferred_acceptance.jl:69\n",
      "   in anonymous at no file:0\n",
      "   in include at boot.jl:261\n",
      "   in include_from_node1 at loading.jl:320\n",
      "   in include_string at loading.jl:282\n",
      "   in execute_request_0x535c5df2 at C:\\Users\\taishi\\.julia\\v0.4\\IJulia\\src\\execute_request.jl:183\n",
      "   in eventloop at C:\\Users\\taishi\\.julia\\v0.4\\IJulia\\src\\IJulia.jl:143\n",
      "   in anonymous at task.jl:447\n",
      "my_Gale_Shap: many-to-one: Error During Test\n",
      "  Got an exception of type BoundsError outside of a @test\n",
      "  BoundsError: attempt to access ([3,1,4,3,1,3,2,1,4,1,5],[5,10,8,2,7,6,4,1,9,3,11])\n",
      "    at index [3]\n",
      "   [inlined code] from C:\\Users\\taishi\\Documents\\matching\\test_deferred_acceptance.jl:115\n",
      "   in anonymous at no file:0\n",
      "   in include at boot.jl:261\n",
      "   in include_from_node1 at loading.jl:320\n",
      "   in include_string at loading.jl:282\n",
      "   in execute_request_0x535c5df2 at C:\\Users\\taishi\\.julia\\v0.4\\IJulia\\src\\execute_request.jl:183\n",
      "   in eventloop at C:\\Users\\taishi\\.julia\\v0.4\\IJulia\\src\\IJulia.jl:143\n",
      "   in anonymous at task.jl:447\n",
      "Test Summary:                           | Pass  Error  Total\n",
      "Testing my_Gale_Shap.jl                 |    4      2      6\n",
      "  my_Gale_Shap: one-to-one              |    4             4\n",
      "  my_Gale_Shap: many-to-one with caps 1 |           1      1\n",
      "  my_Gale_Shap: many-to-one             |           1      1\n"
     ]
    },
    {
     "ename": "LoadError",
     "evalue": "LoadError: LoadError: Some tests did not pass: 4 passed, 0 failed, 2 errored.\nwhile loading C:\\Users\\taishi\\Documents\\matching\\test_deferred_acceptance.jl, in expression starting on line 17\nwhile loading In[14], in expression starting on line 1",
     "output_type": "error",
     "traceback": [
      "LoadError: LoadError: Some tests did not pass: 4 passed, 0 failed, 2 errored.\nwhile loading C:\\Users\\taishi\\Documents\\matching\\test_deferred_acceptance.jl, in expression starting on line 17\nwhile loading In[14], in expression starting on line 1",
      "",
      " in finish at C:\\Users\\taishi\\.julia\\v0.4\\BaseTestNext\\src\\BaseTestNext.jl:385",
      " [inlined code] from C:\\Users\\taishi\\.julia\\v0.4\\BaseTestNext\\src\\BaseTestNext.jl:559",
      " in anonymous at no file:0",
      " in include at boot.jl:261",
      " in include_from_node1 at loading.jl:320"
     ]
    }
   ],
   "source": [
    "include(\"test_deferred_acceptance.jl\")"
   ]
  },
  {
   "cell_type": "code",
   "execution_count": null,
   "metadata": {
    "collapsed": true
   },
   "outputs": [],
   "source": []
  }
 ],
 "metadata": {
  "kernelspec": {
   "display_name": "Julia 0.4.6",
   "language": "julia",
   "name": "julia-0.4"
  },
  "language_info": {
   "file_extension": ".jl",
   "mimetype": "application/julia",
   "name": "julia",
   "version": "0.4.6"
  }
 },
 "nbformat": 4,
 "nbformat_minor": 0
}
