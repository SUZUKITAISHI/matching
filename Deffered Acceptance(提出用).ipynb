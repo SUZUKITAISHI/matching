{
 "cells": [
  {
   "cell_type": "markdown",
   "metadata": {},
   "source": [
    "# many to one"
   ]
  },
  {
   "cell_type": "markdown",
   "metadata": {},
   "source": [
    "[many to oneのcode](https://github.com/SUZUKITAISHI/matching/blob/master/my_Gale_Shap.jl)"
   ]
  },
  {
   "cell_type": "code",
   "execution_count": 2,
   "metadata": {
    "collapsed": false
   },
   "outputs": [
    {
     "data": {
      "text/plain": [
       "my_Gale_Shap (generic function with 2 methods)"
      ]
     },
     "execution_count": 2,
     "metadata": {},
     "output_type": "execute_result"
    }
   ],
   "source": [
    "include(\"my_Gale_Shap.jl\")"
   ]
  },
  {
   "cell_type": "markdown",
   "metadata": {},
   "source": [
    "# Example"
   ]
  },
  {
   "cell_type": "code",
   "execution_count": 3,
   "metadata": {
    "collapsed": false
   },
   "outputs": [
    {
     "ename": "LoadError",
     "evalue": "LoadError: MethodError: `update` has no method matching update(::ASCIIString)\nwhile loading In[3], in expression starting on line 1",
     "output_type": "error",
     "traceback": [
      "LoadError: MethodError: `update` has no method matching update(::ASCIIString)\nwhile loading In[3], in expression starting on line 1",
      ""
     ]
    }
   ],
   "source": [
    "Pkg.update(\"https://github.com/oyamad/Matching.jl\")"
   ]
  },
  {
   "cell_type": "code",
   "execution_count": 4,
   "metadata": {
    "collapsed": false
   },
   "outputs": [],
   "source": [
    "using Matching"
   ]
  },
  {
   "cell_type": "code",
   "execution_count": 5,
   "metadata": {
    "collapsed": true
   },
   "outputs": [],
   "source": [
    "prop_prefs, resp_prefs = random_prefs(4, 3);"
   ]
  },
  {
   "cell_type": "code",
   "execution_count": 6,
   "metadata": {
    "collapsed": false
   },
   "outputs": [
    {
     "data": {
      "text/plain": [
       "4x4 Array{Int64,2}:\n",
       " 3  1  2  2\n",
       " 2  2  0  0\n",
       " 0  3  3  3\n",
       " 1  0  1  1"
      ]
     },
     "execution_count": 6,
     "metadata": {},
     "output_type": "execute_result"
    }
   ],
   "source": [
    "prop_prefs"
   ]
  },
  {
   "cell_type": "code",
   "execution_count": 7,
   "metadata": {
    "collapsed": false
   },
   "outputs": [
    {
     "data": {
      "text/plain": [
       "5x3 Array{Int64,2}:\n",
       " 3  1  1\n",
       " 0  4  4\n",
       " 2  3  2\n",
       " 4  0  0\n",
       " 1  2  3"
      ]
     },
     "execution_count": 7,
     "metadata": {},
     "output_type": "execute_result"
    }
   ],
   "source": [
    "resp_prefs"
   ]
  },
  {
   "cell_type": "code",
   "execution_count": 8,
   "metadata": {
    "collapsed": false
   },
   "outputs": [
    {
     "data": {
      "text/plain": [
       "([3,0,0,2],[0,4,1])"
      ]
     },
     "execution_count": 8,
     "metadata": {},
     "output_type": "execute_result"
    }
   ],
   "source": [
    "my_Gale_Shap(prop_prefs, resp_prefs)"
   ]
  },
  {
   "cell_type": "code",
   "execution_count": 9,
   "metadata": {
    "collapsed": true
   },
   "outputs": [],
   "source": [
    "s_prefs, c_prefs, caps = random_prefs(4, 3, ReturnCaps);"
   ]
  },
  {
   "cell_type": "code",
   "execution_count": 10,
   "metadata": {
    "collapsed": false
   },
   "outputs": [
    {
     "data": {
      "text/plain": [
       "4x4 Array{Int64,2}:\n",
       " 3  3  2  1\n",
       " 2  2  3  3\n",
       " 0  0  1  0\n",
       " 1  1  0  2"
      ]
     },
     "execution_count": 10,
     "metadata": {},
     "output_type": "execute_result"
    }
   ],
   "source": [
    "s_prefs"
   ]
  },
  {
   "cell_type": "code",
   "execution_count": 11,
   "metadata": {
    "collapsed": false
   },
   "outputs": [
    {
     "data": {
      "text/plain": [
       "5x3 Array{Int64,2}:\n",
       " 1  4  2\n",
       " 4  0  1\n",
       " 3  1  4\n",
       " 2  3  0\n",
       " 0  2  3"
      ]
     },
     "execution_count": 11,
     "metadata": {},
     "output_type": "execute_result"
    }
   ],
   "source": [
    "c_prefs"
   ]
  },
  {
   "cell_type": "code",
   "execution_count": 12,
   "metadata": {
    "collapsed": false
   },
   "outputs": [
    {
     "data": {
      "text/plain": [
       "3-element Array{Int64,1}:\n",
       " 3\n",
       " 2\n",
       " 4"
      ]
     },
     "execution_count": 12,
     "metadata": {},
     "output_type": "execute_result"
    }
   ],
   "source": [
    "caps"
   ]
  },
  {
   "cell_type": "code",
   "execution_count": 13,
   "metadata": {
    "collapsed": false
   },
   "outputs": [
    {
     "data": {
      "text/plain": [
       "([3,3,1,1],[4,3,0,0,0,2,1,0,0],[1,4,6,10])"
      ]
     },
     "execution_count": 13,
     "metadata": {},
     "output_type": "execute_result"
    }
   ],
   "source": [
    "my_Gale_Shap(s_prefs, c_prefs, caps)"
   ]
  },
  {
   "cell_type": "code",
   "execution_count": 14,
   "metadata": {
    "collapsed": false
   },
   "outputs": [
    {
     "name": "stderr",
     "output_type": "stream",
     "text": [
      "INFO: Nothing to be done\n"
     ]
    }
   ],
   "source": [
    "Pkg.add(\"BaseTestNext\")"
   ]
  },
  {
   "cell_type": "code",
   "execution_count": 15,
   "metadata": {
    "collapsed": false
   },
   "outputs": [
    {
     "name": "stdout",
     "output_type": "stream",
     "text": [
      "Test Summary:           | Pass  Total\n",
      "Testing my_Gale_Shap.jl |   10     10\n"
     ]
    },
    {
     "data": {
      "text/plain": [
       "BaseTestNext.DefaultTestSet(\"Testing my_Gale_Shap.jl\",Any[BaseTestNext.DefaultTestSet(\"my_Gale_Shap: one-to-one\",Any[Test Passed\n",
       "  Expression: m_matched_computed == m_matched_expected\n",
       "   Evaluated: [1,2,3,0] == [1,2,3,0],Test Passed\n",
       "  Expression: f_matched_computed == f_matched_expected\n",
       "   Evaluated: [1,2,3] == [1,2,3],Test Passed\n",
       "  Expression: m_matched_computed == m_matched_expected\n",
       "   Evaluated: [1,2,3,0] == [1,2,3,0],Test Passed\n",
       "  Expression: f_matched_computed == f_matched_expected\n",
       "   Evaluated: [1,2,3] == [1,2,3]],false),BaseTestNext.DefaultTestSet(\"my_Gale_Shap: many-to-one with caps 1\",Any[Test Passed\n",
       "  Expression: m_matched_computed == m_matched_expected\n",
       "   Evaluated: [1,2,3,0] == [1,2,3,0],Test Passed\n",
       "  Expression: f_matched_computed == f_matched_expected\n",
       "   Evaluated: [1,2,3] == [1,2,3],Test Passed\n",
       "  Expression: indptr_computed == indptr_expected\n",
       "   Evaluated: [1,2,3,4] == [1,2,3,4]],false),BaseTestNext.DefaultTestSet(\"my_Gale_Shap: many-to-one\",Any[Test Passed\n",
       "  Expression: s_matched_computed == s_matched_expected\n",
       "   Evaluated: [3,1,4,3,1,3,2,1,4,1,5] == [3,1,4,3,1,3,2,1,4,1,5],Test Passed\n",
       "  Expression: indptr_computed == indptr_expected\n",
       "   Evaluated: [1,5,6,9,11,12] == [1,5,6,9,11,12],Test Passed\n",
       "  Expression: c_matched_computed == c_matched_expected\n",
       "   Evaluated: [2,5,8,10,7,1,4,6,3,9,11] == [2,5,8,10,7,1,4,6,3,9,11]],false)],false)"
      ]
     },
     "execution_count": 15,
     "metadata": {},
     "output_type": "execute_result"
    }
   ],
   "source": [
    "include(\"test_deferred_acceptance.jl\")"
   ]
  },
  {
   "cell_type": "code",
   "execution_count": null,
   "metadata": {
    "collapsed": true
   },
   "outputs": [],
   "source": []
  }
 ],
 "metadata": {
  "kernelspec": {
   "display_name": "Julia 0.4.6",
   "language": "julia",
   "name": "julia-0.4"
  },
  "language_info": {
   "file_extension": ".jl",
   "mimetype": "application/julia",
   "name": "julia",
   "version": "0.4.6"
  }
 },
 "nbformat": 4,
 "nbformat_minor": 0
}
