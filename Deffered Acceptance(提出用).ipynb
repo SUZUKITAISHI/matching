{
 "cells": [
  {
   "cell_type": "markdown",
   "metadata": {},
   "source": [
    "# many to one"
   ]
  },
  {
   "cell_type": "markdown",
   "metadata": {},
   "source": [
    "[Gale-Shapleyのcode](https://github.com/SUZUKITAISHI/matching/blob/master/my_Gale_Shap.jl)"
   ]
  },
  {
   "cell_type": "code",
   "execution_count": 22,
   "metadata": {
    "collapsed": false
   },
   "outputs": [
    {
     "data": {
      "text/plain": [
       "my_Gale_Shap (generic function with 2 methods)"
      ]
     },
     "execution_count": 22,
     "metadata": {},
     "output_type": "execute_result"
    }
   ],
   "source": [
    "include(\"my_Gale_Shap.jl\")"
   ]
  },
  {
   "cell_type": "markdown",
   "metadata": {},
   "source": [
    "# Example"
   ]
  },
  {
   "cell_type": "code",
   "execution_count": 23,
   "metadata": {
    "collapsed": false
   },
   "outputs": [
    {
     "ename": "LoadError",
     "evalue": "LoadError: MethodError: `update` has no method matching update(::ASCIIString)\nwhile loading In[23], in expression starting on line 1",
     "output_type": "error",
     "traceback": [
      "LoadError: MethodError: `update` has no method matching update(::ASCIIString)\nwhile loading In[23], in expression starting on line 1",
      ""
     ]
    }
   ],
   "source": [
    "Pkg.update(\"https://github.com/oyamad/Matching.jl\")"
   ]
  },
  {
   "cell_type": "code",
   "execution_count": 24,
   "metadata": {
    "collapsed": false
   },
   "outputs": [],
   "source": [
    "using Matching"
   ]
  },
  {
   "cell_type": "code",
   "execution_count": 25,
   "metadata": {
    "collapsed": true
   },
   "outputs": [],
   "source": [
    "prop_prefs, resp_prefs = random_prefs(4, 3);"
   ]
  },
  {
   "cell_type": "code",
   "execution_count": 26,
   "metadata": {
    "collapsed": false
   },
   "outputs": [
    {
     "data": {
      "text/plain": [
       "4x4 Array{Int64,2}:\n",
       " 2  3  2  2\n",
       " 0  2  1  3\n",
       " 3  0  3  0\n",
       " 1  1  0  1"
      ]
     },
     "execution_count": 26,
     "metadata": {},
     "output_type": "execute_result"
    }
   ],
   "source": [
    "prop_prefs"
   ]
  },
  {
   "cell_type": "code",
   "execution_count": 27,
   "metadata": {
    "collapsed": false
   },
   "outputs": [
    {
     "data": {
      "text/plain": [
       "5x3 Array{Int64,2}:\n",
       " 2  2  1\n",
       " 3  1  3\n",
       " 0  4  4\n",
       " 1  3  0\n",
       " 4  0  2"
      ]
     },
     "execution_count": 27,
     "metadata": {},
     "output_type": "execute_result"
    }
   ],
   "source": [
    "resp_prefs"
   ]
  },
  {
   "cell_type": "code",
   "execution_count": 28,
   "metadata": {
    "collapsed": false
   },
   "outputs": [
    {
     "data": {
      "text/plain": [
       "([0,2,1,3],[3,2,4])"
      ]
     },
     "execution_count": 28,
     "metadata": {},
     "output_type": "execute_result"
    }
   ],
   "source": [
    "my_Gale_Shap(prop_prefs, resp_prefs)"
   ]
  },
  {
   "cell_type": "code",
   "execution_count": 29,
   "metadata": {
    "collapsed": true
   },
   "outputs": [],
   "source": [
    "s_prefs, c_prefs, caps = random_prefs(4, 3, ReturnCaps);"
   ]
  },
  {
   "cell_type": "code",
   "execution_count": 30,
   "metadata": {
    "collapsed": false
   },
   "outputs": [
    {
     "data": {
      "text/plain": [
       "4x4 Array{Int64,2}:\n",
       " 3  3  1  2\n",
       " 1  0  2  3\n",
       " 2  2  3  1\n",
       " 0  1  0  0"
      ]
     },
     "execution_count": 30,
     "metadata": {},
     "output_type": "execute_result"
    }
   ],
   "source": [
    "s_prefs"
   ]
  },
  {
   "cell_type": "code",
   "execution_count": 31,
   "metadata": {
    "collapsed": false
   },
   "outputs": [
    {
     "data": {
      "text/plain": [
       "5x3 Array{Int64,2}:\n",
       " 4  3  1\n",
       " 1  1  4\n",
       " 2  4  0\n",
       " 3  0  2\n",
       " 0  2  3"
      ]
     },
     "execution_count": 31,
     "metadata": {},
     "output_type": "execute_result"
    }
   ],
   "source": [
    "c_prefs"
   ]
  },
  {
   "cell_type": "code",
   "execution_count": 32,
   "metadata": {
    "collapsed": false
   },
   "outputs": [
    {
     "data": {
      "text/plain": [
       "3-element Array{Int64,1}:\n",
       " 1\n",
       " 2\n",
       " 1"
      ]
     },
     "execution_count": 32,
     "metadata": {},
     "output_type": "execute_result"
    }
   ],
   "source": [
    "caps"
   ]
  },
  {
   "cell_type": "code",
   "execution_count": 33,
   "metadata": {
    "collapsed": false
   },
   "outputs": [
    {
     "data": {
      "text/plain": [
       "([3,0,1,2],[3,4,0,1])"
      ]
     },
     "execution_count": 33,
     "metadata": {},
     "output_type": "execute_result"
    }
   ],
   "source": [
    "my_Gale_Shap(s_prefs, c_prefs, caps)"
   ]
  },
  {
   "cell_type": "code",
   "execution_count": 34,
   "metadata": {
    "collapsed": false
   },
   "outputs": [
    {
     "name": "stderr",
     "output_type": "stream",
     "text": [
      "INFO: Nothing to be done\n"
     ]
    }
   ],
   "source": [
    "Pkg.add(\"BaseTestNext\")"
   ]
  },
  {
   "cell_type": "code",
   "execution_count": 35,
   "metadata": {
    "collapsed": false
   },
   "outputs": [
    {
     "name": "stdout",
     "output_type": "stream",
     "text": [
      "my_Gale_Shap: many-to-one with caps 1: Error During Test\n",
      "  Got an exception of type BoundsError outside of a @test\n",
      "  BoundsError: attempt to access ([1,2,3,0],[1,2,3])\n",
      "    at index [3]\n",
      "   [inlined code] from C:\\Users\\taishi\\Documents\\matching\\test_deferred_acceptance.jl:69\n",
      "   in anonymous at no file:0\n",
      "   in include at boot.jl:261\n",
      "   in include_from_node1 at loading.jl:320\n",
      "   in include_string at loading.jl:282\n",
      "   in execute_request_0x535c5df2 at C:\\Users\\taishi\\.julia\\v0.4\\IJulia\\src\\execute_request.jl:183\n",
      "   in eventloop at C:\\Users\\taishi\\.julia\\v0.4\\IJulia\\src\\IJulia.jl:143\n",
      "   in anonymous at task.jl:447\n",
      "my_Gale_Shap: many-to-one: Error During Test\n",
      "  Got an exception of type BoundsError outside of a @test\n",
      "  BoundsError: attempt to access ([3,1,4,3,1,3,2,1,4,1,5],[5,10,8,2,7,6,4,1,9,3,11])\n",
      "    at index [3]\n",
      "   [inlined code] from C:\\Users\\taishi\\Documents\\matching\\test_deferred_acceptance.jl:115\n",
      "   in anonymous at no file:0\n",
      "   in include at boot.jl:261\n",
      "   in include_from_node1 at loading.jl:320\n",
      "   in include_string at loading.jl:282\n",
      "   in execute_request_0x535c5df2 at C:\\Users\\taishi\\.julia\\v0.4\\IJulia\\src\\execute_request.jl:183\n",
      "   in eventloop at C:\\Users\\taishi\\.julia\\v0.4\\IJulia\\src\\IJulia.jl:143\n",
      "   in anonymous at task.jl:447\n",
      "Test Summary:                           | Pass  Error  Total\n",
      "Testing my_Gale_Shap.jl                 |    4      2      6\n",
      "  my_Gale_Shap: one-to-one              |    4             4\n",
      "  my_Gale_Shap: many-to-one with caps 1 |           1      1\n",
      "  my_Gale_Shap: many-to-one             |           1      1\n"
     ]
    },
    {
     "name": "stderr",
     "output_type": "stream",
     "text": [
      "WARNING: redefining constant file_name\n",
      "WARNING: redefining constant function_name\n"
     ]
    },
    {
     "ename": "LoadError",
     "evalue": "LoadError: LoadError: Some tests did not pass: 4 passed, 0 failed, 2 errored.\nwhile loading C:\\Users\\taishi\\Documents\\matching\\test_deferred_acceptance.jl, in expression starting on line 17\nwhile loading In[35], in expression starting on line 1",
     "output_type": "error",
     "traceback": [
      "LoadError: LoadError: Some tests did not pass: 4 passed, 0 failed, 2 errored.\nwhile loading C:\\Users\\taishi\\Documents\\matching\\test_deferred_acceptance.jl, in expression starting on line 17\nwhile loading In[35], in expression starting on line 1",
      "",
      " in finish at C:\\Users\\taishi\\.julia\\v0.4\\BaseTestNext\\src\\BaseTestNext.jl:385",
      " [inlined code] from C:\\Users\\taishi\\.julia\\v0.4\\BaseTestNext\\src\\BaseTestNext.jl:559",
      " in anonymous at no file:0",
      " in include at boot.jl:261",
      " in include_from_node1 at loading.jl:320"
     ]
    }
   ],
   "source": [
    "include(\"test_deferred_acceptance.jl\")"
   ]
  },
  {
   "cell_type": "code",
   "execution_count": null,
   "metadata": {
    "collapsed": true
   },
   "outputs": [],
   "source": []
  }
 ],
 "metadata": {
  "kernelspec": {
   "display_name": "Julia 0.4.6",
   "language": "julia",
   "name": "julia-0.4"
  },
  "language_info": {
   "file_extension": ".jl",
   "mimetype": "application/julia",
   "name": "julia",
   "version": "0.4.6"
  }
 },
 "nbformat": 4,
 "nbformat_minor": 0
}
