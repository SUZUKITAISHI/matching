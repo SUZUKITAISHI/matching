{
 "cells": [
  {
   "cell_type": "markdown",
   "metadata": {},
   "source": [
    "# 結婚安定問題"
   ]
  },
  {
   "cell_type": "markdown",
   "metadata": {},
   "source": [
    "[Gale-Shapleyのcode](https://github.com/SUZUKITAISHI/matching/blob/master/my_Gale_Shap.jl)"
   ]
  },
  {
   "cell_type": "code",
   "execution_count": 1,
   "metadata": {
    "collapsed": false
   },
   "outputs": [
    {
     "data": {
      "text/plain": [
       "my_Gale_Shap (generic function with 1 method)"
      ]
     },
     "execution_count": 1,
     "metadata": {},
     "output_type": "execute_result"
    }
   ],
   "source": [
    "include(\"my_Gale_Shap.jl\")"
   ]
  },
  {
   "cell_type": "markdown",
   "metadata": {},
   "source": [
    "# Example"
   ]
  },
  {
   "cell_type": "code",
   "execution_count": 2,
   "metadata": {
    "collapsed": false
   },
   "outputs": [
    {
     "name": "stderr",
     "output_type": "stream",
     "text": [
      "INFO: Cloning Matching from https://github.com/oyamad/Matching.jl\n"
     ]
    },
    {
     "ename": "LoadError",
     "evalue": "LoadError: Matching already exists\nwhile loading In[2], in expression starting on line 1",
     "output_type": "error",
     "traceback": [
      "LoadError: Matching already exists\nwhile loading In[2], in expression starting on line 1",
      ""
     ]
    }
   ],
   "source": [
    "Pkg.clone(\"https://github.com/oyamad/Matching.jl\")"
   ]
  },
  {
   "cell_type": "code",
   "execution_count": 3,
   "metadata": {
    "collapsed": true
   },
   "outputs": [],
   "source": [
    "using Matching"
   ]
  },
  {
   "cell_type": "code",
   "execution_count": 16,
   "metadata": {
    "collapsed": true
   },
   "outputs": [],
   "source": [
    "m_prefs, f_prefs = random_prefs(4, 3);"
   ]
  },
  {
   "cell_type": "code",
   "execution_count": 17,
   "metadata": {
    "collapsed": false
   },
   "outputs": [
    {
     "data": {
      "text/plain": [
       "4x4 Array{Int64,2}:\n",
       " 3  3  2  1\n",
       " 1  1  3  0\n",
       " 2  2  0  3\n",
       " 0  0  1  2"
      ]
     },
     "execution_count": 17,
     "metadata": {},
     "output_type": "execute_result"
    }
   ],
   "source": [
    "m_prefs"
   ]
  },
  {
   "cell_type": "code",
   "execution_count": 18,
   "metadata": {
    "collapsed": false
   },
   "outputs": [
    {
     "data": {
      "text/plain": [
       "5x3 Array{Int64,2}:\n",
       " 3  4  2\n",
       " 2  3  1\n",
       " 0  2  3\n",
       " 4  0  4\n",
       " 1  1  0"
      ]
     },
     "execution_count": 18,
     "metadata": {},
     "output_type": "execute_result"
    }
   ],
   "source": [
    "f_prefs"
   ]
  },
  {
   "cell_type": "code",
   "execution_count": 19,
   "metadata": {
    "collapsed": false
   },
   "outputs": [
    {
     "data": {
      "text/plain": [
       "([0,3,0,2],[0,4,2])"
      ]
     },
     "execution_count": 19,
     "metadata": {},
     "output_type": "execute_result"
    }
   ],
   "source": [
    "my_Gale_Shap(m_prefs, f_prefs)"
   ]
  },
  {
   "cell_type": "code",
   "execution_count": 4,
   "metadata": {
    "collapsed": false
   },
   "outputs": [
    {
     "name": "stderr",
     "output_type": "stream",
     "text": [
      "INFO: Cloning cache of BaseTestNext from git://github.com/JuliaCI/BaseTestNext.jl.git\n",
      "INFO: Installing BaseTestNext v0.2.1\n",
      "INFO: Package database updated\n",
      "INFO: METADATA is out-of-date — you may not have the latest version of BaseTestNext\n",
      "INFO: Use `Pkg.update()` to get the latest versions of your packages\n"
     ]
    }
   ],
   "source": [
    "Pkg.add(\"BaseTestNext\")"
   ]
  },
  {
   "cell_type": "code",
   "execution_count": 5,
   "metadata": {
    "collapsed": false
   },
   "outputs": [
    {
     "name": "stdout",
     "output_type": "stream",
     "text": [
      "my_Gale_Shap: "
     ]
    },
    {
     "name": "stderr",
     "output_type": "stream",
     "text": [
      "WARNING: redefining constant file_name\n",
      "WARNING: redefining constant function_name\n"
     ]
    },
    {
     "name": "stdout",
     "output_type": "stream",
     "text": [
      "Test Failed\n",
      "  Expression: m_matched_computed == m_matched_expected\n",
      "   Evaluated: [0,2,1,0] == [1,2,3,0]\n",
      " in record at C:\\Users\\taishi\\.julia\\v0.4\\BaseTestNext\\src\\BaseTestNext.jl:320\n",
      " in do_test at C:\\Users\\taishi\\.julia\\v0.4\\BaseTestNext\\src\\BaseTestNext.jl:192\n",
      " [inlined code] from C:\\Users\\taishi\\Documents\\matching\\test_deferred_acceptance.jl:38\n",
      " in anonymous at no file:0\n",
      " in include at boot.jl:261\n",
      " in include_from_node1 at loading.jl:320\n",
      " in include_string at loading.jl:282\n",
      " in execute_request_0x535c5df2 at C:\\Users\\taishi\\.julia\\v0.4\\IJulia\\src\\execute_request.jl:182\n",
      " in eventloop at C:\\Users\\taishi\\.julia\\v0.4\\IJulia\\src\\IJulia.jl:142\n",
      " in anonymous at task.jl:447\n",
      "my_Gale_Shap: Test Failed\n",
      "  Expression: f_matched_computed == f_matched_expected\n",
      "   Evaluated: [3,2,0] == [1,2,3]\n",
      " in record at C:\\Users\\taishi\\.julia\\v0.4\\BaseTestNext\\src\\BaseTestNext.jl:320\n",
      " in do_test at C:\\Users\\taishi\\.julia\\v0.4\\BaseTestNext\\src\\BaseTestNext.jl:192\n",
      " [inlined code] from C:\\Users\\taishi\\Documents\\matching\\test_deferred_acceptance.jl:39\n",
      " in anonymous at no file:0\n",
      " in include at boot.jl:261\n",
      " in include_from_node1 at loading.jl:320\n",
      " in include_string at loading.jl:282\n",
      " in execute_request_0x535c5df2 at C:\\Users\\taishi\\.julia\\v0.4\\IJulia\\src\\execute_request.jl:182\n",
      " in eventloop at C:\\Users\\taishi\\.julia\\v0.4\\IJulia\\src\\IJulia.jl:142\n",
      " in anonymous at task.jl:447\n",
      "Test Summary:           | Pass  Fail  Total\n",
      "Testing my_Gale_Shap.jl |    2     2      4\n",
      "  my_Gale_Shap          |    2     2      4\n"
     ]
    },
    {
     "ename": "LoadError",
     "evalue": "LoadError: LoadError: Some tests did not pass: 2 passed, 2 failed, 0 errored.\nwhile loading C:\\Users\\taishi\\Documents\\matching\\test_deferred_acceptance.jl, in expression starting on line 17\nwhile loading In[5], in expression starting on line 1",
     "output_type": "error",
     "traceback": [
      "LoadError: LoadError: Some tests did not pass: 2 passed, 2 failed, 0 errored.\nwhile loading C:\\Users\\taishi\\Documents\\matching\\test_deferred_acceptance.jl, in expression starting on line 17\nwhile loading In[5], in expression starting on line 1",
      "",
      " in finish at C:\\Users\\taishi\\.julia\\v0.4\\BaseTestNext\\src\\BaseTestNext.jl:385",
      " [inlined code] from C:\\Users\\taishi\\.julia\\v0.4\\BaseTestNext\\src\\BaseTestNext.jl:559",
      " in anonymous at no file:0",
      " in include at boot.jl:261",
      " in include_from_node1 at loading.jl:320"
     ]
    }
   ],
   "source": [
    "include(\"test_deferred_acceptance.jl\")"
   ]
  },
  {
   "cell_type": "code",
   "execution_count": null,
   "metadata": {
    "collapsed": true
   },
   "outputs": [],
   "source": []
  }
 ],
 "metadata": {
  "kernelspec": {
   "display_name": "Julia 0.4.5",
   "language": "julia",
   "name": "julia-0.4"
  },
  "language_info": {
   "file_extension": ".jl",
   "mimetype": "application/julia",
   "name": "julia",
   "version": "0.4.5"
  }
 },
 "nbformat": 4,
 "nbformat_minor": 0
}
