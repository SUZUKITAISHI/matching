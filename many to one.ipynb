{
 "cells": [
  {
   "cell_type": "code",
   "execution_count": 105,
   "metadata": {
    "collapsed": false
   },
   "outputs": [
    {
     "data": {
      "text/plain": [
       "my_Gale_Shap (generic function with 2 methods)"
      ]
     },
     "execution_count": 105,
     "metadata": {},
     "output_type": "execute_result"
    }
   ],
   "source": [
    "function my_Gale_Shap{T<:Int64}(prop_prefs::AbstractArray{T, 2}, resp_prefs::AbstractArray{T, 2}, caps=ones(Int64, size(resp_prefs, 2)))\n",
    "    m = size(prop_prefs, 2)\n",
    "    n = size(resp_prefs, 2)\n",
    "    L = sum(caps)\n",
    "    prop_matched = zeros(Int64, m)\n",
    "    resp_matched = zeros(Int64, L)\n",
    "    prop_pool = collect(1:m)\n",
    "    \n",
    "    println(prop_matched, resp_matched, prop_pool, caps, 1)\n",
    "    \n",
    "    while length(prop_pool) != 0\n",
    "        i = pop!(prop_pool)\n",
    "        \n",
    "        for j in prop_prefs[:, i]\n",
    "            \n",
    "            if j == 0\n",
    "                prop_matched[i] = 0\n",
    "                break\n",
    "                \n",
    "                println(prop_matched, resp_matched, prop_pool, 2)\n",
    "                \n",
    "                elseif j == 1\n",
    "                count = 0\n",
    "                k = 1\n",
    "                l = caps[1]\n",
    "                \n",
    "                for t in k:l\n",
    "                    if findnext(resp_prefs[:, j], resp_matched[t], 1) > findnext(resp_prefs[:, j], i, 1)\n",
    "                        if resp_matched[t] == 0\n",
    "                            resp_matched[t] = i\n",
    "                            prop_matched[i] = j\n",
    "                            count = 1\n",
    "                            break\n",
    "                            \n",
    "                            println(prop_matched, resp_matched, prop_pool, 3)\n",
    "                            \n",
    "                        else\n",
    "                            push!(prop_pool, resp_matched[t])\n",
    "                            resp_matched[t] = i\n",
    "                            prop_matched[i] = j\n",
    "                            count = 1\n",
    "                            break\n",
    "                            \n",
    "                            println(prop_matched, resp_matched, prop_pool, 4)\n",
    "                            \n",
    "                        end\n",
    "                    else\n",
    "                        resp_matched[t] = resp_matched[t]\n",
    "                        prop_matched[i] = prop_matched[i]\n",
    "                    end\n",
    "                    \n",
    "                    println(prop_matched, resp_matched, prop_pool, 5)\n",
    "                    \n",
    "                end\n",
    "                if count == 1\n",
    "                    break\n",
    "                end\n",
    "                \n",
    "            else\n",
    "                count = 0\n",
    "                k = sum(caps[1:j-1]) + 1\n",
    "                l = sum(caps[1:j])\n",
    "                for t in k:l\n",
    "                    if findnext(resp_prefs[:, j], resp_matched[t], 1) > findnext(resp_prefs[:, j], i, 1)\n",
    "                        if resp_matched[t] == 0\n",
    "                            resp_matched[t] = i\n",
    "                            prop_matched[i] = j\n",
    "                            count = 1\n",
    "                            break\n",
    "                            \n",
    "                            println(prop_matched, resp_matched, prop_pool, 6)\n",
    "                            \n",
    "                        else\n",
    "                            push!(prop_pool, resp_matched[t])\n",
    "                            resp_matched[t] = i\n",
    "                            prop_matched[i] = j\n",
    "                            count = 1\n",
    "                            break\n",
    "                            \n",
    "                            println(prop_matched, resp_matched, prop_pool, 7)\n",
    "                            \n",
    "                        end\n",
    "                    else\n",
    "                        resp_matched[t] = resp_matched[t]\n",
    "                        prop_matched[i] = prop_matched[i]\n",
    "                    end\n",
    "                    \n",
    "                    println(prop_matched, resp_matched, prop_pool, 8)\n",
    "                    \n",
    "                end\n",
    "                if count == 1\n",
    "                    break\n",
    "                end\n",
    "            end\n",
    "        end\n",
    "        \n",
    "        println(prop_matched, resp_matched, prop_pool, 9)\n",
    "        \n",
    "    end\n",
    "    return prop_matched, resp_matched\n",
    "end"
   ]
  },
  {
   "cell_type": "code",
   "execution_count": 106,
   "metadata": {
    "collapsed": false
   },
   "outputs": [
    {
     "data": {
      "text/plain": [
       "3x3 Array{Int64,2}:\n",
       " 0  1  2\n",
       " 1  2  0\n",
       " 2  0  1"
      ]
     },
     "execution_count": 106,
     "metadata": {},
     "output_type": "execute_result"
    }
   ],
   "source": [
    "prop_prefs = [0 1 2; 1 2 0; 2 0 1]"
   ]
  },
  {
   "cell_type": "code",
   "execution_count": 107,
   "metadata": {
    "collapsed": false
   },
   "outputs": [
    {
     "data": {
      "text/plain": [
       "4x2 Array{Int64,2}:\n",
       " 2  3\n",
       " 0  2\n",
       " 1  0\n",
       " 3  1"
      ]
     },
     "execution_count": 107,
     "metadata": {},
     "output_type": "execute_result"
    }
   ],
   "source": [
    "resp_prefs = [2 3; 0 2; 1 0; 3 1]"
   ]
  },
  {
   "cell_type": "code",
   "execution_count": 108,
   "metadata": {
    "collapsed": false
   },
   "outputs": [
    {
     "name": "stdout",
     "output_type": "stream",
     "text": [
      "[0,0,0][0,0][1,2,3][1,1]1\n",
      "[0,0,2][0,3][1,2]9\n",
      "[0,1,2][2,3][1]9\n",
      "[0,1,2][2,3]Int64[]9\n"
     ]
    },
    {
     "data": {
      "text/plain": [
       "([0,1,2],[2,3])"
      ]
     },
     "execution_count": 108,
     "metadata": {},
     "output_type": "execute_result"
    }
   ],
   "source": [
    "my_Gale_Shap(prop_prefs, resp_prefs)"
   ]
  },
  {
   "cell_type": "code",
   "execution_count": 84,
   "metadata": {
    "collapsed": false
   },
   "outputs": [
    {
     "name": "stdout",
     "output_type": "stream",
     "text": [
      "search: break BufferStream AbstractVecOrMat AbstractSparseArray\n",
      "\n"
     ]
    },
    {
     "data": {
      "text/latex": [
       "\\texttt{break} breaks out of a loop immediately. For example\n",
       "\\begin{verbatim}\n",
       "i = 0\n",
       "while true\n",
       "    i += 1\n",
       "    i > 10 && break\n",
       "    println(i)\n",
       "end\n",
       "\\end{verbatim}\n",
       "prints the numbers 1 to 10.\n"
      ],
      "text/markdown": [
       "`break` breaks out of a loop immediately. For example\n",
       "\n",
       "```\n",
       "i = 0\n",
       "while true\n",
       "    i += 1\n",
       "    i > 10 && break\n",
       "    println(i)\n",
       "end\n",
       "```\n",
       "\n",
       "prints the numbers 1 to 10.\n"
      ],
      "text/plain": [
       "`break` breaks out of a loop immediately. For example\n",
       "\n",
       "```\n",
       "i = 0\n",
       "while true\n",
       "    i += 1\n",
       "    i > 10 && break\n",
       "    println(i)\n",
       "end\n",
       "```\n",
       "\n",
       "prints the numbers 1 to 10.\n"
      ]
     },
     "execution_count": 84,
     "metadata": {},
     "output_type": "execute_result"
    }
   ],
   "source": [
    "?break"
   ]
  },
  {
   "cell_type": "code",
   "execution_count": 1,
   "metadata": {
    "collapsed": false
   },
   "outputs": [
    {
     "name": "stdout",
     "output_type": "stream",
     "text": [
      "search: cumsum cumsum! cumsum_kbn\n",
      "\n"
     ]
    },
    {
     "data": {
      "text/latex": [
       "\\begin{verbatim}\n",
       "..  cumsum(A, [dim])\n",
       "\n",
       "Cumulative sum along a dimension ``dim`` (defaults to 1).\n",
       "See also :func:`cumsum!` to use a preallocated output array,\n",
       "both for performance and to control the precision of the\n",
       "output (e.g. to avoid overflow).\n",
       "\\end{verbatim}\n"
      ],
      "text/markdown": [
       "```rst\n",
       "..  cumsum(A, [dim])\n",
       "\n",
       "Cumulative sum along a dimension ``dim`` (defaults to 1).\n",
       "See also :func:`cumsum!` to use a preallocated output array,\n",
       "both for performance and to control the precision of the\n",
       "output (e.g. to avoid overflow).\n",
       "```\n"
      ],
      "text/plain": [
       "```rst\n",
       "..  cumsum(A, [dim])\n",
       "\n",
       "Cumulative sum along a dimension ``dim`` (defaults to 1).\n",
       "See also :func:`cumsum!` to use a preallocated output array,\n",
       "both for performance and to control the precision of the\n",
       "output (e.g. to avoid overflow).\n",
       "```\n"
      ]
     },
     "execution_count": 1,
     "metadata": {},
     "output_type": "execute_result"
    }
   ],
   "source": [
    "?cumsum"
   ]
  },
  {
   "cell_type": "code",
   "execution_count": 1,
   "metadata": {
    "collapsed": false
   },
   "outputs": [
    {
     "data": {
      "text/plain": [
       "3-element Array{Float64,1}:\n",
       " 1.0\n",
       " 1.0\n",
       " 1.0"
      ]
     },
     "execution_count": 1,
     "metadata": {},
     "output_type": "execute_result"
    }
   ],
   "source": [
    "ones(3)"
   ]
  },
  {
   "cell_type": "code",
   "execution_count": 18,
   "metadata": {
    "collapsed": false
   },
   "outputs": [
    {
     "data": {
      "text/plain": [
       "3-element Array{Int64,1}:\n",
       " 1\n",
       " 2\n",
       " 3"
      ]
     },
     "execution_count": 18,
     "metadata": {},
     "output_type": "execute_result"
    }
   ],
   "source": [
    "a = [1; 2; 3]"
   ]
  },
  {
   "cell_type": "code",
   "execution_count": 19,
   "metadata": {
    "collapsed": false
   },
   "outputs": [
    {
     "ename": "LoadError",
     "evalue": "LoadError: MethodError: `pop!` has no method matching pop!(::Array{Int64,1}, ::Int64)\nClosest candidates are:\n  pop!(::Array{T,1})\n  pop!(!Matched::IntSet, ::Integer)\n  pop!(!Matched::IntSet, ::Integer, !Matched::Any)\n  ...\nwhile loading In[19], in expression starting on line 1",
     "output_type": "error",
     "traceback": [
      "LoadError: MethodError: `pop!` has no method matching pop!(::Array{Int64,1}, ::Int64)\nClosest candidates are:\n  pop!(::Array{T,1})\n  pop!(!Matched::IntSet, ::Integer)\n  pop!(!Matched::IntSet, ::Integer, !Matched::Any)\n  ...\nwhile loading In[19], in expression starting on line 1",
      ""
     ]
    }
   ],
   "source": [
    "pop!(a, 2)"
   ]
  },
  {
   "cell_type": "code",
   "execution_count": 4,
   "metadata": {
    "collapsed": false
   },
   "outputs": [
    {
     "ename": "LoadError",
     "evalue": "LoadError: MethodError: `cumsum` has no method matching cumsum(::Int64)\nwhile loading In[4], in expression starting on line 1",
     "output_type": "error",
     "traceback": [
      "LoadError: MethodError: `cumsum` has no method matching cumsum(::Int64)\nwhile loading In[4], in expression starting on line 1",
      ""
     ]
    }
   ],
   "source": [
    "cumsum(a[2])"
   ]
  },
  {
   "cell_type": "code",
   "execution_count": 5,
   "metadata": {
    "collapsed": false
   },
   "outputs": [
    {
     "name": "stdout",
     "output_type": "stream",
     "text": [
      "search: cumsum_kbn\n",
      "\n"
     ]
    },
    {
     "data": {
      "text/latex": [
       "\\begin{verbatim}\n",
       "cumsum_kbn(A, [dim])\n",
       "\\end{verbatim}\n",
       "Cumulative sum along a dimension, using the Kahan-Babuska-Neumaier compensated summation algorithm for additional accuracy. The dimension defaults to 1.\n"
      ],
      "text/markdown": [
       "```\n",
       "cumsum_kbn(A, [dim])\n",
       "```\n",
       "\n",
       "Cumulative sum along a dimension, using the Kahan-Babuska-Neumaier compensated summation algorithm for additional accuracy. The dimension defaults to 1.\n"
      ],
      "text/plain": [
       "```\n",
       "cumsum_kbn(A, [dim])\n",
       "```\n",
       "\n",
       "Cumulative sum along a dimension, using the Kahan-Babuska-Neumaier compensated summation algorithm for additional accuracy. The dimension defaults to 1.\n"
      ]
     },
     "execution_count": 5,
     "metadata": {},
     "output_type": "execute_result"
    }
   ],
   "source": [
    "?cumsum_kbn"
   ]
  },
  {
   "cell_type": "code",
   "execution_count": 7,
   "metadata": {
    "collapsed": false
   },
   "outputs": [
    {
     "data": {
      "text/plain": [
       "1x3 Array{Int64,2}:\n",
       " 1  3  6"
      ]
     },
     "execution_count": 7,
     "metadata": {},
     "output_type": "execute_result"
    }
   ],
   "source": [
    "cumsum(a, 2)"
   ]
  },
  {
   "cell_type": "code",
   "execution_count": 9,
   "metadata": {
    "collapsed": false
   },
   "outputs": [
    {
     "name": "stdout",
     "output_type": "stream",
     "text": [
      "search: sum sum! sumabs summary sumabs2 sumabs! sum_kbn sumabs2! cumsum cumsum!\n",
      "\n"
     ]
    },
    {
     "data": {
      "text/latex": [
       "\\begin{verbatim}\n",
       "sum(A, dims)\n",
       "\\end{verbatim}\n",
       "Sum elements of an array over the given dimensions.\n",
       "\\begin{verbatim}\n",
       "sum(itr)\n",
       "\\end{verbatim}\n",
       "Returns the sum of all elements in a collection.\n",
       "\\begin{verbatim}\n",
       "sum(f, itr)\n",
       "\\end{verbatim}\n",
       "Sum the results of calling function \\texttt{f} on each element of \\texttt{itr}.\n"
      ],
      "text/markdown": [
       "```\n",
       "sum(A, dims)\n",
       "```\n",
       "\n",
       "Sum elements of an array over the given dimensions.\n",
       "\n",
       "```\n",
       "sum(itr)\n",
       "```\n",
       "\n",
       "Returns the sum of all elements in a collection.\n",
       "\n",
       "```\n",
       "sum(f, itr)\n",
       "```\n",
       "\n",
       "Sum the results of calling function `f` on each element of `itr`.\n"
      ],
      "text/plain": [
       "```\n",
       "sum(A, dims)\n",
       "```\n",
       "\n",
       "Sum elements of an array over the given dimensions.\n",
       "\n",
       "```\n",
       "sum(itr)\n",
       "```\n",
       "\n",
       "Returns the sum of all elements in a collection.\n",
       "\n",
       "```\n",
       "sum(f, itr)\n",
       "```\n",
       "\n",
       "Sum the results of calling function `f` on each element of `itr`.\n"
      ]
     },
     "execution_count": 9,
     "metadata": {},
     "output_type": "execute_result"
    }
   ],
   "source": [
    "?sum"
   ]
  },
  {
   "cell_type": "code",
   "execution_count": 10,
   "metadata": {
    "collapsed": false
   },
   "outputs": [
    {
     "name": "stdout",
     "output_type": "stream",
     "text": [
      "search: itrunc bitrand UnitRange istriu istril Intrinsics IntrinsicFunction\n",
      "\n",
      "Couldn't find itr\n",
      "Perhaps you meant Ptr, bits, int, int8, im, in, inf, inv, is, isa, if or cor\n"
     ]
    },
    {
     "ename": "LoadError",
     "evalue": "LoadError: \"itr\" is not defined in module Main\nwhile loading In[10], in expression starting on line 119",
     "output_type": "error",
     "traceback": [
      "LoadError: \"itr\" is not defined in module Main\nwhile loading In[10], in expression starting on line 119",
      "",
      " in error at error.jl:21"
     ]
    }
   ],
   "source": [
    "?itr"
   ]
  },
  {
   "cell_type": "code",
   "execution_count": 5,
   "metadata": {
    "collapsed": false
   },
   "outputs": [
    {
     "data": {
      "text/plain": [
       "0"
      ]
     },
     "execution_count": 5,
     "metadata": {},
     "output_type": "execute_result"
    }
   ],
   "source": [
    "sum(1:0)"
   ]
  },
  {
   "cell_type": "code",
   "execution_count": 11,
   "metadata": {
    "collapsed": false
   },
   "outputs": [
    {
     "data": {
      "text/plain": [
       "4"
      ]
     },
     "execution_count": 11,
     "metadata": {},
     "output_type": "execute_result"
    }
   ],
   "source": [
    "sum(b[1]:b[1])"
   ]
  },
  {
   "cell_type": "code",
   "execution_count": 14,
   "metadata": {
    "collapsed": false
   },
   "outputs": [
    {
     "name": "stdout",
     "output_type": "stream",
     "text": [
      "search: pop! popdisplay apropos deepcopy precompile __precompile__ peakflops\n",
      "\n"
     ]
    },
    {
     "data": {
      "text/latex": [
       "\\begin{verbatim}\n",
       "pop!(collection, key[, default])\n",
       "\\end{verbatim}\n",
       "Delete and return the mapping for \\texttt{key} if it exists in \\texttt{collection}, otherwise return \\texttt{default}, or throw an error if default is not specified.\n",
       "\\begin{verbatim}\n",
       "pop!(collection) -> item\n",
       "\\end{verbatim}\n",
       "Remove the last item in \\texttt{collection} and return it.\n",
       "\\begin{verbatim}\n",
       "julia> A=[1, 2, 3, 4, 5, 6]\n",
       "6-element Array{Int64,1}:\n",
       " 1\n",
       " 2\n",
       " 3\n",
       " 4\n",
       " 5\n",
       " 6\n",
       "\n",
       "julia> pop!(A)\n",
       "6\n",
       "\n",
       "julia> A\n",
       "5-element Array{Int64,1}:\n",
       " 1\n",
       " 2\n",
       " 3\n",
       " 4\n",
       " 5\n",
       "\\end{verbatim}\n"
      ],
      "text/markdown": [
       "```\n",
       "pop!(collection, key[, default])\n",
       "```\n",
       "\n",
       "Delete and return the mapping for `key` if it exists in `collection`, otherwise return `default`, or throw an error if default is not specified.\n",
       "\n",
       "```\n",
       "pop!(collection) -> item\n",
       "```\n",
       "\n",
       "Remove the last item in `collection` and return it.\n",
       "\n",
       "```jldoctest\n",
       "julia> A=[1, 2, 3, 4, 5, 6]\n",
       "6-element Array{Int64,1}:\n",
       " 1\n",
       " 2\n",
       " 3\n",
       " 4\n",
       " 5\n",
       " 6\n",
       "\n",
       "julia> pop!(A)\n",
       "6\n",
       "\n",
       "julia> A\n",
       "5-element Array{Int64,1}:\n",
       " 1\n",
       " 2\n",
       " 3\n",
       " 4\n",
       " 5\n",
       "```\n"
      ],
      "text/plain": [
       "```\n",
       "pop!(collection, key[, default])\n",
       "```\n",
       "\n",
       "Delete and return the mapping for `key` if it exists in `collection`, otherwise return `default`, or throw an error if default is not specified.\n",
       "\n",
       "```\n",
       "pop!(collection) -> item\n",
       "```\n",
       "\n",
       "Remove the last item in `collection` and return it.\n",
       "\n",
       "```jldoctest\n",
       "julia> A=[1, 2, 3, 4, 5, 6]\n",
       "6-element Array{Int64,1}:\n",
       " 1\n",
       " 2\n",
       " 3\n",
       " 4\n",
       " 5\n",
       " 6\n",
       "\n",
       "julia> pop!(A)\n",
       "6\n",
       "\n",
       "julia> A\n",
       "5-element Array{Int64,1}:\n",
       " 1\n",
       " 2\n",
       " 3\n",
       " 4\n",
       " 5\n",
       "```\n"
      ]
     },
     "execution_count": 14,
     "metadata": {},
     "output_type": "execute_result"
    }
   ],
   "source": [
    "?pop!"
   ]
  },
  {
   "cell_type": "code",
   "execution_count": 53,
   "metadata": {
    "collapsed": false
   },
   "outputs": [
    {
     "data": {
      "text/plain": [
       "3-element Array{Int64,1}:\n",
       " 4\n",
       " 5\n",
       " 6"
      ]
     },
     "execution_count": 53,
     "metadata": {},
     "output_type": "execute_result"
    }
   ],
   "source": [
    "b = [4; 5; 6]"
   ]
  },
  {
   "cell_type": "code",
   "execution_count": 2,
   "metadata": {
    "collapsed": false
   },
   "outputs": [
    {
     "data": {
      "text/plain": [
       "2-element Array{Int64,1}:\n",
       " 4\n",
       " 6"
      ]
     },
     "execution_count": 2,
     "metadata": {},
     "output_type": "execute_result"
    }
   ],
   "source": [
    " deleteat!(b, findin(b, 5))"
   ]
  },
  {
   "cell_type": "code",
   "execution_count": 54,
   "metadata": {
    "collapsed": true
   },
   "outputs": [],
   "source": [
    "for i in 2:2\n",
    "    b[i] = 1\n",
    "end"
   ]
  },
  {
   "cell_type": "code",
   "execution_count": 62,
   "metadata": {
    "collapsed": false
   },
   "outputs": [
    {
     "data": {
      "text/plain": [
       "1"
      ]
     },
     "execution_count": 62,
     "metadata": {},
     "output_type": "execute_result"
    }
   ],
   "source": [
    "b[2]"
   ]
  },
  {
   "cell_type": "code",
   "execution_count": 63,
   "metadata": {
    "collapsed": false
   },
   "outputs": [
    {
     "data": {
      "text/plain": [
       "0"
      ]
     },
     "execution_count": 63,
     "metadata": {},
     "output_type": "execute_result"
    }
   ],
   "source": [
    "l = sum(b[1]:b[2])"
   ]
  },
  {
   "cell_type": "code",
   "execution_count": 57,
   "metadata": {
    "collapsed": false
   },
   "outputs": [
    {
     "data": {
      "text/plain": [
       "5"
      ]
     },
     "execution_count": 57,
     "metadata": {},
     "output_type": "execute_result"
    }
   ],
   "source": [
    "k"
   ]
  },
  {
   "cell_type": "code",
   "execution_count": 58,
   "metadata": {
    "collapsed": false
   },
   "outputs": [
    {
     "data": {
      "text/plain": [
       "0"
      ]
     },
     "execution_count": 58,
     "metadata": {},
     "output_type": "execute_result"
    }
   ],
   "source": [
    "l"
   ]
  },
  {
   "cell_type": "code",
   "execution_count": 64,
   "metadata": {
    "collapsed": false
   },
   "outputs": [
    {
     "data": {
      "text/plain": [
       "1x3 Array{Int64,2}:\n",
       " 4  1  6"
      ]
     },
     "execution_count": 64,
     "metadata": {},
     "output_type": "execute_result"
    }
   ],
   "source": [
    "a = b'"
   ]
  },
  {
   "cell_type": "code",
   "execution_count": 71,
   "metadata": {
    "collapsed": false
   },
   "outputs": [
    {
     "data": {
      "text/plain": [
       "5"
      ]
     },
     "execution_count": 71,
     "metadata": {},
     "output_type": "execute_result"
    }
   ],
   "source": [
    "l = sum(b[1:2])"
   ]
  },
  {
   "cell_type": "code",
   "execution_count": 69,
   "metadata": {
    "collapsed": false
   },
   "outputs": [
    {
     "name": "stdout",
     "output_type": "stream",
     "text": [
      "search: cumsum cumsum! cumsum_kbn\n",
      "\n"
     ]
    },
    {
     "data": {
      "text/latex": [
       "\\begin{verbatim}\n",
       "..  cumsum(A, [dim])\n",
       "\n",
       "Cumulative sum along a dimension ``dim`` (defaults to 1).\n",
       "See also :func:`cumsum!` to use a preallocated output array,\n",
       "both for performance and to control the precision of the\n",
       "output (e.g. to avoid overflow).\n",
       "\\end{verbatim}\n"
      ],
      "text/markdown": [
       "```rst\n",
       "..  cumsum(A, [dim])\n",
       "\n",
       "Cumulative sum along a dimension ``dim`` (defaults to 1).\n",
       "See also :func:`cumsum!` to use a preallocated output array,\n",
       "both for performance and to control the precision of the\n",
       "output (e.g. to avoid overflow).\n",
       "```\n"
      ],
      "text/plain": [
       "```rst\n",
       "..  cumsum(A, [dim])\n",
       "\n",
       "Cumulative sum along a dimension ``dim`` (defaults to 1).\n",
       "See also :func:`cumsum!` to use a preallocated output array,\n",
       "both for performance and to control the precision of the\n",
       "output (e.g. to avoid overflow).\n",
       "```\n"
      ]
     },
     "execution_count": 69,
     "metadata": {},
     "output_type": "execute_result"
    }
   ],
   "source": [
    "?cumsum"
   ]
  },
  {
   "cell_type": "code",
   "execution_count": 1,
   "metadata": {
    "collapsed": false
   },
   "outputs": [
    {
     "name": "stdout",
     "output_type": "stream",
     "text": [
      "search: Matrix BitMatrix DenseMatrix SparseMatrix SharedMatrix SparseMatrixCSC\n",
      "\n"
     ]
    },
    {
     "data": {
      "text/latex": [
       "No documentation found.\n",
       "\\texttt{Base.Matrix} is of type \\texttt{TypeConstructor}:\n",
       "\\textbf{Summary:}\n",
       "\\begin{verbatim}\n",
       "immutable TypeConstructor <: Type{T}\n",
       "\\end{verbatim}\n",
       "\\textbf{Fields:}\n",
       "\\begin{verbatim}\n",
       "parameters :: SimpleVector\n",
       "body       :: Any\n",
       "\\end{verbatim}\n"
      ],
      "text/markdown": [
       "No documentation found.\n",
       "\n",
       "`Base.Matrix` is of type `TypeConstructor`:\n",
       "\n",
       "**Summary:**\n",
       "\n",
       "```julia\n",
       "immutable TypeConstructor <: Type{T}\n",
       "```\n",
       "\n",
       "**Fields:**\n",
       "\n",
       "```julia\n",
       "parameters :: SimpleVector\n",
       "body       :: Any\n",
       "```\n"
      ],
      "text/plain": [
       "No documentation found.\n",
       "\n",
       "`Base.Matrix` is of type `TypeConstructor`:\n",
       "\n",
       "**Summary:**\n",
       "\n",
       "```julia\n",
       "immutable TypeConstructor <: Type{T}\n",
       "```\n",
       "\n",
       "**Fields:**\n",
       "\n",
       "```julia\n",
       "parameters :: SimpleVector\n",
       "body       :: Any\n",
       "```\n"
      ]
     },
     "execution_count": 1,
     "metadata": {},
     "output_type": "execute_result"
    }
   ],
   "source": [
    "?Matrix"
   ]
  },
  {
   "cell_type": "code",
   "execution_count": null,
   "metadata": {
    "collapsed": true
   },
   "outputs": [],
   "source": []
  }
 ],
 "metadata": {
  "kernelspec": {
   "display_name": "Julia 0.4.6",
   "language": "julia",
   "name": "julia-0.4"
  },
  "language_info": {
   "file_extension": ".jl",
   "mimetype": "application/julia",
   "name": "julia",
   "version": "0.4.6"
  }
 },
 "nbformat": 4,
 "nbformat_minor": 0
}
