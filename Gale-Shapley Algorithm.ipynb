{
 "cells": [
  {
   "cell_type": "code",
   "execution_count": 130,
   "metadata": {
    "collapsed": false
   },
   "outputs": [
    {
     "data": {
      "text/plain": [
       "my_Gale_Shap (generic function with 1 method)"
      ]
     },
     "execution_count": 130,
     "metadata": {},
     "output_type": "execute_result"
    }
   ],
   "source": [
    "function my_Gale_Shap{T<:Int64}(m_prefs::AbstractArray{T, 2}, f_prefs::AbstractArray{T, 2})\n",
    "    m = size(m_prefs, 2)\n",
    "    n = size(f_prefs, 2)\n",
    "    m_matched = zeros(Int64, m)\n",
    "    f_matched = zeros(Int64, n)\n",
    "    for t in 1:(n+1)\n",
    "        for i in 1:m\n",
    "            if m_matched[i] == 0\n",
    "                if m_prefs[t, i] == 0\n",
    "                    m_matched[i] = 0\n",
    "                else\n",
    "                    if f_matched[m_prefs[t, i]] == 0\n",
    "                        f_matched[m_prefs[t, i]] = i\n",
    "                        m_matched[i] = m_prefs[t, i]\n",
    "                        elseif (f_matched[m_prefs[t, i]] != i) && (findnext(f_prefs[:, m_prefs[t, i]], f_matched[m_prefs[t, i]], 1) > findnext(f_prefs[:, m_prefs[t, i]], i, 1))\n",
    "                        m_matched[f_matched[m_prefs[t, i]]] = 0\n",
    "                        f_matched[m_prefs[t, i]] = i\n",
    "                        m_matched[i] = m_prefs[t, i]\n",
    "                    else\n",
    "                        f_matched[m_prefs[t, i]] = f_matched[m_prefs[t, i]]\n",
    "                        m_matched[i] = m_matched[i]\n",
    "                    end\n",
    "                end\n",
    "            else\n",
    "                m_matched[i] = m_matched[i]\n",
    "            end\n",
    "        end\n",
    "    end\n",
    "    return m_matched, f_matched\n",
    "end"
   ]
  },
  {
   "cell_type": "code",
   "execution_count": 131,
   "metadata": {
    "collapsed": false
   },
   "outputs": [
    {
     "data": {
      "text/plain": [
       "4x3 Array{Int64,2}:\n",
       " 1  3  1\n",
       " 2  2  2\n",
       " 0  1  0\n",
       " 3  0  3"
      ]
     },
     "execution_count": 131,
     "metadata": {},
     "output_type": "execute_result"
    }
   ],
   "source": [
    "m_prefs = [1 2 0 3; 3 2 1 0; 1 2 0 3]'"
   ]
  },
  {
   "cell_type": "code",
   "execution_count": 132,
   "metadata": {
    "collapsed": false
   },
   "outputs": [
    {
     "data": {
      "text/plain": [
       "3"
      ]
     },
     "execution_count": 132,
     "metadata": {},
     "output_type": "execute_result"
    }
   ],
   "source": [
    "size(m_prefs, 2)"
   ]
  },
  {
   "cell_type": "code",
   "execution_count": 133,
   "metadata": {
    "collapsed": false
   },
   "outputs": [
    {
     "data": {
      "text/plain": [
       "4x3 Array{Int64,2}:\n",
       " 1  2  2\n",
       " 2  0  3\n",
       " 3  1  0\n",
       " 0  3  1"
      ]
     },
     "execution_count": 133,
     "metadata": {},
     "output_type": "execute_result"
    }
   ],
   "source": [
    "f_prefs = [1 2 3 0; 2 0 1 3; 2 3 0 1]'"
   ]
  },
  {
   "cell_type": "code",
   "execution_count": 134,
   "metadata": {
    "collapsed": false
   },
   "outputs": [
    {
     "data": {
      "text/plain": [
       "3"
      ]
     },
     "execution_count": 134,
     "metadata": {},
     "output_type": "execute_result"
    }
   ],
   "source": [
    "size(f_prefs, 2)"
   ]
  },
  {
   "cell_type": "code",
   "execution_count": 135,
   "metadata": {
    "collapsed": false
   },
   "outputs": [
    {
     "data": {
      "text/plain": [
       "([1,3,2],[1,3,2])"
      ]
     },
     "execution_count": 135,
     "metadata": {},
     "output_type": "execute_result"
    }
   ],
   "source": [
    "my_Gale_Shap(m_prefs, f_prefs)"
   ]
  },
  {
   "cell_type": "code",
   "execution_count": 16,
   "metadata": {
    "collapsed": false
   },
   "outputs": [
    {
     "data": {
      "text/plain": [
       "4x3 Array{Int64,2}:\n",
       " 34359738376  0  0\n",
       "  2147483649  0  0\n",
       "           0  0  0\n",
       "           0  0  0"
      ]
     },
     "execution_count": 16,
     "metadata": {},
     "output_type": "execute_result"
    }
   ],
   "source": [
    "z = Array(Int64, 4, 3)"
   ]
  },
  {
   "cell_type": "code",
   "execution_count": 11,
   "metadata": {
    "collapsed": false
   },
   "outputs": [
    {
     "data": {
      "text/plain": [
       "4"
      ]
     },
     "execution_count": 11,
     "metadata": {},
     "output_type": "execute_result"
    }
   ],
   "source": [
    "length(z[:, 1])"
   ]
  },
  {
   "cell_type": "code",
   "execution_count": 4,
   "metadata": {
    "collapsed": false
   },
   "outputs": [
    {
     "ename": "LoadError",
     "evalue": "LoadError: MethodError: `range` has no method matching range(::Array{Float64,2})\nClosest candidates are:\n  range{T}(::T, !Matched::Integer)\n  range{T,S}(::T, !Matched::S, !Matched::Integer)\nwhile loading In[4], in expression starting on line 1",
     "output_type": "error",
     "traceback": [
      "LoadError: MethodError: `range` has no method matching range(::Array{Float64,2})\nClosest candidates are:\n  range{T}(::T, !Matched::Integer)\n  range{T,S}(::T, !Matched::S, !Matched::Integer)\nwhile loading In[4], in expression starting on line 1",
      ""
     ]
    }
   ],
   "source": [
    "range(z)"
   ]
  },
  {
   "cell_type": "code",
   "execution_count": 17,
   "metadata": {
    "collapsed": false
   },
   "outputs": [
    {
     "data": {
      "text/plain": [
       "4-element Array{Float64,1}:\n",
       " 0.0\n",
       " 0.0\n",
       " 0.0\n",
       " 0.0"
      ]
     },
     "execution_count": 17,
     "metadata": {},
     "output_type": "execute_result"
    }
   ],
   "source": [
    "zeros(4)"
   ]
  },
  {
   "cell_type": "code",
   "execution_count": 18,
   "metadata": {
    "collapsed": false
   },
   "outputs": [
    {
     "data": {
      "text/plain": [
       "34359738376"
      ]
     },
     "execution_count": 18,
     "metadata": {},
     "output_type": "execute_result"
    }
   ],
   "source": [
    "z[1, 1]"
   ]
  },
  {
   "cell_type": "code",
   "execution_count": 21,
   "metadata": {
    "collapsed": false
   },
   "outputs": [
    {
     "data": {
      "text/plain": [
       "1-element Array{Int64,1}:\n",
       " 1"
      ]
     },
     "execution_count": 21,
     "metadata": {},
     "output_type": "execute_result"
    }
   ],
   "source": [
    "find(6)"
   ]
  },
  {
   "cell_type": "code",
   "execution_count": 34,
   "metadata": {
    "collapsed": false
   },
   "outputs": [
    {
     "name": "stdout",
     "output_type": "stream",
     "text": [
      "search: findnext\n",
      "\n"
     ]
    },
    {
     "data": {
      "text/latex": [
       "\\begin{verbatim}\n",
       "findnext(A, v, i)\n",
       "\\end{verbatim}\n",
       "Find the next index >= \\texttt{i} of an element of \\texttt{A} equal to \\texttt{v} (using \\texttt{==}), or \\texttt{0} if not found.\n",
       "\\begin{verbatim}\n",
       "findnext(predicate, A, i)\n",
       "\\end{verbatim}\n",
       "Find the next index >= \\texttt{i} of an element of \\texttt{A} for which \\texttt{predicate} returns \\texttt{true}, or \\texttt{0} if not found.\n",
       "\\begin{verbatim}\n",
       "findnext(A, i)\n",
       "\\end{verbatim}\n",
       "Find the next index >= \\texttt{i} of a non-zero element of \\texttt{A}, or \\texttt{0} if not found.\n"
      ],
      "text/markdown": [
       "```\n",
       "findnext(A, v, i)\n",
       "```\n",
       "\n",
       "Find the next index >= `i` of an element of `A` equal to `v` (using `==`), or `0` if not found.\n",
       "\n",
       "```\n",
       "findnext(predicate, A, i)\n",
       "```\n",
       "\n",
       "Find the next index >= `i` of an element of `A` for which `predicate` returns `true`, or `0` if not found.\n",
       "\n",
       "```\n",
       "findnext(A, i)\n",
       "```\n",
       "\n",
       "Find the next index >= `i` of a non-zero element of `A`, or `0` if not found.\n"
      ],
      "text/plain": [
       "```\n",
       "findnext(A, v, i)\n",
       "```\n",
       "\n",
       "Find the next index >= `i` of an element of `A` equal to `v` (using `==`), or `0` if not found.\n",
       "\n",
       "```\n",
       "findnext(predicate, A, i)\n",
       "```\n",
       "\n",
       "Find the next index >= `i` of an element of `A` for which `predicate` returns `true`, or `0` if not found.\n",
       "\n",
       "```\n",
       "findnext(A, i)\n",
       "```\n",
       "\n",
       "Find the next index >= `i` of a non-zero element of `A`, or `0` if not found.\n"
      ]
     },
     "execution_count": 34,
     "metadata": {},
     "output_type": "execute_result"
    }
   ],
   "source": [
    "?findnext"
   ]
  },
  {
   "cell_type": "code",
   "execution_count": 25,
   "metadata": {
    "collapsed": false
   },
   "outputs": [
    {
     "data": {
      "text/plain": [
       "3-element Array{Int64,1}:\n",
       " -1\n",
       " -2\n",
       "  2"
      ]
     },
     "execution_count": 25,
     "metadata": {},
     "output_type": "execute_result"
    }
   ],
   "source": [
    "w = [-1, -2, 2]"
   ]
  },
  {
   "cell_type": "code",
   "execution_count": 44,
   "metadata": {
    "collapsed": false
   },
   "outputs": [
    {
     "data": {
      "text/plain": [
       "0"
      ]
     },
     "execution_count": 44,
     "metadata": {},
     "output_type": "execute_result"
    }
   ],
   "source": [
    "findnext(w, -1, 3)"
   ]
  },
  {
   "cell_type": "code",
   "execution_count": 45,
   "metadata": {
    "collapsed": false
   },
   "outputs": [
    {
     "name": "stdout",
     "output_type": "stream",
     "text": [
      "search: nonzeros count_ones leading_ones @noinline trailing_ones print_joined\n",
      "\n"
     ]
    },
    {
     "name": "stderr",
     "output_type": "stream",
     "text": [
      "WARNING: Base.None is deprecated, use "
     ]
    },
    {
     "data": {
      "text/latex": [
       "No documentation found.\n",
       "\\texttt{Base.None} is of type \\texttt{Union}:\n",
       "\\textbf{Summary:}\n",
       "\\begin{verbatim}\n",
       "immutable Union <: Type{T}\n",
       "\\end{verbatim}\n",
       "\\textbf{Fields:}\n",
       "\\begin{verbatim}\n",
       "types :: SimpleVector\n",
       "\\end{verbatim}\n"
      ],
      "text/markdown": [
       "No documentation found.\n",
       "\n",
       "`Base.None` is of type `Union`:\n",
       "\n",
       "**Summary:**\n",
       "\n",
       "```julia\n",
       "immutable Union <: Type{T}\n",
       "```\n",
       "\n",
       "**Fields:**\n",
       "\n",
       "```julia\n",
       "types :: SimpleVector\n",
       "```\n"
      ],
      "text/plain": [
       "No documentation found.\n",
       "\n",
       "`Base.None` is of type `Union`:\n",
       "\n",
       "**Summary:**\n",
       "\n",
       "```julia\n",
       "immutable Union <: Type{T}\n",
       "```\n",
       "\n",
       "**Fields:**\n",
       "\n",
       "```julia\n",
       "types :: SimpleVector\n",
       "```\n"
      ]
     },
     "execution_count": 45,
     "metadata": {},
     "output_type": "execute_result"
    },
    {
     "name": "stderr",
     "output_type": "stream",
     "text": [
      "Union{} instead.\n",
      "  likely near In[45]:119\n"
     ]
    }
   ],
   "source": [
    "?None"
   ]
  },
  {
   "cell_type": "code",
   "execution_count": 14,
   "metadata": {
    "collapsed": false
   },
   "outputs": [
    {
     "name": "stdout",
     "output_type": "stream",
     "text": [
      "search: size sizeof sizehint sizehint! Csize_t resize! filesize Cssize_t\n",
      "\n"
     ]
    },
    {
     "data": {
      "text/latex": [
       "\\begin{verbatim}\n",
       "size(A, [dim...])\n",
       "\\end{verbatim}\n",
       "Returns a tuple containing the dimensions of \\texttt{A}. Optionally you can specify the dimension(s) you want the length of, and get the length of that dimension, or a tuple of the lengths of dimensions you asked for.:\n",
       "\\begin{verbatim}\n",
       "julia> A = rand(2,3,4);\n",
       "\n",
       "julia> size(A, 2)\n",
       "3\n",
       "\n",
       "julia> size(A,3,2)\n",
       "(4,3)\n",
       "\\end{verbatim}\n"
      ],
      "text/markdown": [
       "```\n",
       "size(A, [dim...])\n",
       "```\n",
       "\n",
       "Returns a tuple containing the dimensions of `A`. Optionally you can specify the dimension(s) you want the length of, and get the length of that dimension, or a tuple of the lengths of dimensions you asked for.:\n",
       "\n",
       "```\n",
       "julia> A = rand(2,3,4);\n",
       "\n",
       "julia> size(A, 2)\n",
       "3\n",
       "\n",
       "julia> size(A,3,2)\n",
       "(4,3)\n",
       "```\n"
      ],
      "text/plain": [
       "```\n",
       "size(A, [dim...])\n",
       "```\n",
       "\n",
       "Returns a tuple containing the dimensions of `A`. Optionally you can specify the dimension(s) you want the length of, and get the length of that dimension, or a tuple of the lengths of dimensions you asked for.:\n",
       "\n",
       "```\n",
       "julia> A = rand(2,3,4);\n",
       "\n",
       "julia> size(A, 2)\n",
       "3\n",
       "\n",
       "julia> size(A,3,2)\n",
       "(4,3)\n",
       "```\n"
      ]
     },
     "execution_count": 14,
     "metadata": {},
     "output_type": "execute_result"
    }
   ],
   "source": [
    "?size"
   ]
  },
  {
   "cell_type": "code",
   "execution_count": 35,
   "metadata": {
    "collapsed": false
   },
   "outputs": [
    {
     "ename": "LoadError",
     "evalue": "LoadError: MethodError: `convert` has no method matching convert(::Type{Int64}, ::Array{Float64,1})\nThis may have arisen from a call to the constructor Int64(...),\nsince type constructors fall back to convert methods.\nClosest candidates are:\n  call{T}(::Type{T}, ::Any)\n  convert(::Type{Int64}, !Matched::Int8)\n  convert(::Type{Int64}, !Matched::UInt8)\n  ...\nwhile loading In[35], in expression starting on line 1",
     "output_type": "error",
     "traceback": [
      "LoadError: MethodError: `convert` has no method matching convert(::Type{Int64}, ::Array{Float64,1})\nThis may have arisen from a call to the constructor Int64(...),\nsince type constructors fall back to convert methods.\nClosest candidates are:\n  call{T}(::Type{T}, ::Any)\n  convert(::Type{Int64}, !Matched::Int8)\n  convert(::Type{Int64}, !Matched::UInt8)\n  ...\nwhile loading In[35], in expression starting on line 1",
      ""
     ]
    }
   ],
   "source": [
    "convert(Int, zeros(4))"
   ]
  },
  {
   "cell_type": "code",
   "execution_count": 45,
   "metadata": {
    "collapsed": false
   },
   "outputs": [
    {
     "name": "stdout",
     "output_type": "stream",
     "text": [
      "search: BoundsError\n",
      "\n"
     ]
    },
    {
     "data": {
      "text/latex": [
       "\\begin{verbatim}\n",
       "BoundsError([a],[i])\n",
       "\\end{verbatim}\n",
       "An indexing operation into an array, \\texttt{a}, tried to access an out-of-bounds element, \\texttt{i}.\n"
      ],
      "text/markdown": [
       "```\n",
       "BoundsError([a],[i])\n",
       "```\n",
       "\n",
       "An indexing operation into an array, `a`, tried to access an out-of-bounds element, `i`.\n"
      ],
      "text/plain": [
       "```\n",
       "BoundsError([a],[i])\n",
       "```\n",
       "\n",
       "An indexing operation into an array, `a`, tried to access an out-of-bounds element, `i`.\n"
      ]
     },
     "execution_count": 45,
     "metadata": {},
     "output_type": "execute_result"
    }
   ],
   "source": [
    "?BoundsError"
   ]
  },
  {
   "cell_type": "code",
   "execution_count": 88,
   "metadata": {
    "collapsed": false
   },
   "outputs": [
    {
     "name": "stdout",
     "output_type": "stream",
     "text": [
      "search: pop! popdisplay apropos deepcopy precompile __precompile__ peakflops\n",
      "\n"
     ]
    },
    {
     "data": {
      "text/latex": [
       "\\begin{verbatim}\n",
       "pop!(collection, key[, default])\n",
       "\\end{verbatim}\n",
       "Delete and return the mapping for \\texttt{key} if it exists in \\texttt{collection}, otherwise return \\texttt{default}, or throw an error if default is not specified.\n",
       "\\begin{verbatim}\n",
       "pop!(collection) -> item\n",
       "\\end{verbatim}\n",
       "Remove the last item in \\texttt{collection} and return it.\n",
       "\\begin{verbatim}\n",
       "julia> A=[1, 2, 3, 4, 5, 6]\n",
       "6-element Array{Int64,1}:\n",
       " 1\n",
       " 2\n",
       " 3\n",
       " 4\n",
       " 5\n",
       " 6\n",
       "\n",
       "julia> pop!(A)\n",
       "6\n",
       "\n",
       "julia> A\n",
       "5-element Array{Int64,1}:\n",
       " 1\n",
       " 2\n",
       " 3\n",
       " 4\n",
       " 5\n",
       "\\end{verbatim}\n"
      ],
      "text/markdown": [
       "```\n",
       "pop!(collection, key[, default])\n",
       "```\n",
       "\n",
       "Delete and return the mapping for `key` if it exists in `collection`, otherwise return `default`, or throw an error if default is not specified.\n",
       "\n",
       "```\n",
       "pop!(collection) -> item\n",
       "```\n",
       "\n",
       "Remove the last item in `collection` and return it.\n",
       "\n",
       "```jldoctest\n",
       "julia> A=[1, 2, 3, 4, 5, 6]\n",
       "6-element Array{Int64,1}:\n",
       " 1\n",
       " 2\n",
       " 3\n",
       " 4\n",
       " 5\n",
       " 6\n",
       "\n",
       "julia> pop!(A)\n",
       "6\n",
       "\n",
       "julia> A\n",
       "5-element Array{Int64,1}:\n",
       " 1\n",
       " 2\n",
       " 3\n",
       " 4\n",
       " 5\n",
       "```\n"
      ],
      "text/plain": [
       "```\n",
       "pop!(collection, key[, default])\n",
       "```\n",
       "\n",
       "Delete and return the mapping for `key` if it exists in `collection`, otherwise return `default`, or throw an error if default is not specified.\n",
       "\n",
       "```\n",
       "pop!(collection) -> item\n",
       "```\n",
       "\n",
       "Remove the last item in `collection` and return it.\n",
       "\n",
       "```jldoctest\n",
       "julia> A=[1, 2, 3, 4, 5, 6]\n",
       "6-element Array{Int64,1}:\n",
       " 1\n",
       " 2\n",
       " 3\n",
       " 4\n",
       " 5\n",
       " 6\n",
       "\n",
       "julia> pop!(A)\n",
       "6\n",
       "\n",
       "julia> A\n",
       "5-element Array{Int64,1}:\n",
       " 1\n",
       " 2\n",
       " 3\n",
       " 4\n",
       " 5\n",
       "```\n"
      ]
     },
     "execution_count": 88,
     "metadata": {},
     "output_type": "execute_result"
    }
   ],
   "source": [
    "?pop!"
   ]
  },
  {
   "cell_type": "code",
   "execution_count": 92,
   "metadata": {
    "collapsed": false
   },
   "outputs": [
    {
     "name": "stdout",
     "output_type": "stream",
     "text": [
      "search: minimum minimum! DimensionMismatch\n",
      "\n"
     ]
    },
    {
     "data": {
      "text/latex": [
       "\\begin{verbatim}\n",
       "minimum(A, dims)\n",
       "\\end{verbatim}\n",
       "Compute the minimum value of an array over the given dimensions.\n",
       "\\begin{verbatim}\n",
       "minimum(itr)\n",
       "\\end{verbatim}\n",
       "Returns the smallest element in a collection.\n"
      ],
      "text/markdown": [
       "```\n",
       "minimum(A, dims)\n",
       "```\n",
       "\n",
       "Compute the minimum value of an array over the given dimensions.\n",
       "\n",
       "```\n",
       "minimum(itr)\n",
       "```\n",
       "\n",
       "Returns the smallest element in a collection.\n"
      ],
      "text/plain": [
       "```\n",
       "minimum(A, dims)\n",
       "```\n",
       "\n",
       "Compute the minimum value of an array over the given dimensions.\n",
       "\n",
       "```\n",
       "minimum(itr)\n",
       "```\n",
       "\n",
       "Returns the smallest element in a collection.\n"
      ]
     },
     "execution_count": 92,
     "metadata": {},
     "output_type": "execute_result"
    }
   ],
   "source": [
    "?minimum"
   ]
  },
  {
   "cell_type": "code",
   "execution_count": 93,
   "metadata": {
    "collapsed": false
   },
   "outputs": [
    {
     "name": "stdout",
     "output_type": "stream",
     "text": [
      "search: findmin findmax\n",
      "\n"
     ]
    },
    {
     "data": {
      "text/latex": [
       "\\begin{verbatim}\n",
       "findmin(A, dims) -> (minval, index)\n",
       "\\end{verbatim}\n",
       "For an array input, returns the value and index of the minimum over the given dimensions.\n",
       "\\begin{verbatim}\n",
       "findmin(itr) -> (x, index)\n",
       "\\end{verbatim}\n",
       "Returns the minimum element and its index.\n"
      ],
      "text/markdown": [
       "```\n",
       "findmin(A, dims) -> (minval, index)\n",
       "```\n",
       "\n",
       "For an array input, returns the value and index of the minimum over the given dimensions.\n",
       "\n",
       "```\n",
       "findmin(itr) -> (x, index)\n",
       "```\n",
       "\n",
       "Returns the minimum element and its index.\n"
      ],
      "text/plain": [
       "```\n",
       "findmin(A, dims) -> (minval, index)\n",
       "```\n",
       "\n",
       "For an array input, returns the value and index of the minimum over the given dimensions.\n",
       "\n",
       "```\n",
       "findmin(itr) -> (x, index)\n",
       "```\n",
       "\n",
       "Returns the minimum element and its index.\n"
      ]
     },
     "execution_count": 93,
     "metadata": {},
     "output_type": "execute_result"
    }
   ],
   "source": [
    "?findmin"
   ]
  },
  {
   "cell_type": "code",
   "execution_count": 107,
   "metadata": {
    "collapsed": false
   },
   "outputs": [
    {
     "data": {
      "text/plain": [
       "2-element Array{Int64,1}:\n",
       " 1\n",
       " 3"
      ]
     },
     "execution_count": 107,
     "metadata": {},
     "output_type": "execute_result"
    }
   ],
   "source": [
    "z = [2, 0, 3]\n",
    "find(z)"
   ]
  },
  {
   "cell_type": "code",
   "execution_count": 109,
   "metadata": {
    "collapsed": false
   },
   "outputs": [
    {
     "name": "stdout",
     "output_type": "stream",
     "text": [
      "search: findlast find_library\n",
      "\n"
     ]
    },
    {
     "data": {
      "text/latex": [
       "\\begin{verbatim}\n",
       "findlast(A, v)\n",
       "\\end{verbatim}\n",
       "Return the index of the last element equal to \\texttt{v} in \\texttt{A}.\n",
       "\\begin{verbatim}\n",
       "findlast(A)\n",
       "\\end{verbatim}\n",
       "Return the index of the last non-zero value in \\texttt{A} (determined by \\texttt{A[i]!=0}).\n",
       "\\begin{verbatim}\n",
       "findlast(predicate, A)\n",
       "\\end{verbatim}\n",
       "Return the index of the last element of \\texttt{A} for which \\texttt{predicate} returns \\texttt{true}.\n"
      ],
      "text/markdown": [
       "```\n",
       "findlast(A, v)\n",
       "```\n",
       "\n",
       "Return the index of the last element equal to `v` in `A`.\n",
       "\n",
       "```\n",
       "findlast(A)\n",
       "```\n",
       "\n",
       "Return the index of the last non-zero value in `A` (determined by `A[i]!=0`).\n",
       "\n",
       "```\n",
       "findlast(predicate, A)\n",
       "```\n",
       "\n",
       "Return the index of the last element of `A` for which `predicate` returns `true`.\n"
      ],
      "text/plain": [
       "```\n",
       "findlast(A, v)\n",
       "```\n",
       "\n",
       "Return the index of the last element equal to `v` in `A`.\n",
       "\n",
       "```\n",
       "findlast(A)\n",
       "```\n",
       "\n",
       "Return the index of the last non-zero value in `A` (determined by `A[i]!=0`).\n",
       "\n",
       "```\n",
       "findlast(predicate, A)\n",
       "```\n",
       "\n",
       "Return the index of the last element of `A` for which `predicate` returns `true`.\n"
      ]
     },
     "execution_count": 109,
     "metadata": {},
     "output_type": "execute_result"
    }
   ],
   "source": [
    "?findlast"
   ]
  },
  {
   "cell_type": "code",
   "execution_count": 129,
   "metadata": {
    "collapsed": false
   },
   "outputs": [
    {
     "name": "stdout",
     "output_type": "stream",
     "text": [
      "search: elseif\n",
      "\n"
     ]
    },
    {
     "data": {
      "text/latex": [
       "\\texttt{if}-\\texttt{elseif}-\\texttt{else} performs conditional evaluation, which allows portions of code to be evaluated or not evaluated depending on the value of a boolean expression. Here is the anatomy of the \\texttt{if}-\\texttt{elseif}-\\texttt{else} conditional syntax:\n",
       "\\begin{verbatim}\n",
       "if x < y\n",
       "    println(\"x is less than y\")\n",
       "elseif x > y\n",
       "    println(\"x is greater than y\")\n",
       "else\n",
       "    println(\"x is equal to y\")\n",
       "end\n",
       "\\end{verbatim}\n",
       "If the condition expression \\texttt{x < y} is true, then the corresponding block is evaluated; otherwise the condition expression \\texttt{x > y} is evaluated, and if it is true, the corresponding block is evaluated; if neither expression is true, the \\texttt{else} block is evaluated. The \\texttt{elseif} and \\texttt{else} blocks are optional, and as many \\texttt{elseif} blocks as desired can be used.\n"
      ],
      "text/markdown": [
       "`if`-`elseif`-`else` performs conditional evaluation, which allows portions of code to be evaluated or not evaluated depending on the value of a boolean expression. Here is the anatomy of the `if`-`elseif`-`else` conditional syntax:\n",
       "\n",
       "```\n",
       "if x < y\n",
       "    println(\"x is less than y\")\n",
       "elseif x > y\n",
       "    println(\"x is greater than y\")\n",
       "else\n",
       "    println(\"x is equal to y\")\n",
       "end\n",
       "```\n",
       "\n",
       "If the condition expression `x < y` is true, then the corresponding block is evaluated; otherwise the condition expression `x > y` is evaluated, and if it is true, the corresponding block is evaluated; if neither expression is true, the `else` block is evaluated. The `elseif` and `else` blocks are optional, and as many `elseif` blocks as desired can be used.\n"
      ],
      "text/plain": [
       "`if`-`elseif`-`else` performs conditional evaluation, which allows portions of code to be evaluated or not evaluated depending on the value of a boolean expression. Here is the anatomy of the `if`-`elseif`-`else` conditional syntax:\n",
       "\n",
       "```\n",
       "if x < y\n",
       "    println(\"x is less than y\")\n",
       "elseif x > y\n",
       "    println(\"x is greater than y\")\n",
       "else\n",
       "    println(\"x is equal to y\")\n",
       "end\n",
       "```\n",
       "\n",
       "If the condition expression `x < y` is true, then the corresponding block is evaluated; otherwise the condition expression `x > y` is evaluated, and if it is true, the corresponding block is evaluated; if neither expression is true, the `else` block is evaluated. The `elseif` and `else` blocks are optional, and as many `elseif` blocks as desired can be used.\n"
      ]
     },
     "execution_count": 129,
     "metadata": {},
     "output_type": "execute_result"
    }
   ],
   "source": [
    "?elseif"
   ]
  },
  {
   "cell_type": "code",
   "execution_count": 1,
   "metadata": {
    "collapsed": false
   },
   "outputs": [
    {
     "name": "stdout",
     "output_type": "stream",
     "text": [
      "search: collect Collections\n",
      "\n"
     ]
    },
    {
     "data": {
      "text/latex": [
       "\\begin{verbatim}\n",
       "collect(collection)\n",
       "\\end{verbatim}\n",
       "Return an array of all items in a collection. For associative collections, returns Pair\\{KeyType, ValType\\}.\n",
       "\\begin{verbatim}\n",
       "collect(element_type, collection)\n",
       "\\end{verbatim}\n",
       "Return an array of type \\texttt{Array{element_type,1}} of all items in a collection.\n"
      ],
      "text/markdown": [
       "```\n",
       "collect(collection)\n",
       "```\n",
       "\n",
       "Return an array of all items in a collection. For associative collections, returns Pair{KeyType, ValType}.\n",
       "\n",
       "```\n",
       "collect(element_type, collection)\n",
       "```\n",
       "\n",
       "Return an array of type `Array{element_type,1}` of all items in a collection.\n"
      ],
      "text/plain": [
       "```\n",
       "collect(collection)\n",
       "```\n",
       "\n",
       "Return an array of all items in a collection. For associative collections, returns Pair{KeyType, ValType}.\n",
       "\n",
       "```\n",
       "collect(element_type, collection)\n",
       "```\n",
       "\n",
       "Return an array of type `Array{element_type,1}` of all items in a collection.\n"
      ]
     },
     "execution_count": 1,
     "metadata": {},
     "output_type": "execute_result"
    }
   ],
   "source": [
    "?collect"
   ]
  },
  {
   "cell_type": "code",
   "execution_count": 5,
   "metadata": {
    "collapsed": false
   },
   "outputs": [
    {
     "data": {
      "text/plain": [
       "4-element Array{Int64,1}:\n",
       " 1\n",
       " 2\n",
       " 3\n",
       " 4"
      ]
     },
     "execution_count": 5,
     "metadata": {},
     "output_type": "execute_result"
    }
   ],
   "source": [
    "z = collect(1:4)"
   ]
  },
  {
   "cell_type": "code",
   "execution_count": 4,
   "metadata": {
    "collapsed": false
   },
   "outputs": [
    {
     "name": "stdout",
     "output_type": "stream",
     "text": [
      "search: pop! popdisplay apropos deepcopy precompile __precompile__ peakflops\n",
      "\n"
     ]
    },
    {
     "data": {
      "text/latex": [
       "\\begin{verbatim}\n",
       "pop!(collection, key[, default])\n",
       "\\end{verbatim}\n",
       "Delete and return the mapping for \\texttt{key} if it exists in \\texttt{collection}, otherwise return \\texttt{default}, or throw an error if default is not specified.\n",
       "\\begin{verbatim}\n",
       "pop!(collection) -> item\n",
       "\\end{verbatim}\n",
       "Remove the last item in \\texttt{collection} and return it.\n",
       "\\begin{verbatim}\n",
       "julia> A=[1, 2, 3, 4, 5, 6]\n",
       "6-element Array{Int64,1}:\n",
       " 1\n",
       " 2\n",
       " 3\n",
       " 4\n",
       " 5\n",
       " 6\n",
       "\n",
       "julia> pop!(A)\n",
       "6\n",
       "\n",
       "julia> A\n",
       "5-element Array{Int64,1}:\n",
       " 1\n",
       " 2\n",
       " 3\n",
       " 4\n",
       " 5\n",
       "\\end{verbatim}\n"
      ],
      "text/markdown": [
       "```\n",
       "pop!(collection, key[, default])\n",
       "```\n",
       "\n",
       "Delete and return the mapping for `key` if it exists in `collection`, otherwise return `default`, or throw an error if default is not specified.\n",
       "\n",
       "```\n",
       "pop!(collection) -> item\n",
       "```\n",
       "\n",
       "Remove the last item in `collection` and return it.\n",
       "\n",
       "```jldoctest\n",
       "julia> A=[1, 2, 3, 4, 5, 6]\n",
       "6-element Array{Int64,1}:\n",
       " 1\n",
       " 2\n",
       " 3\n",
       " 4\n",
       " 5\n",
       " 6\n",
       "\n",
       "julia> pop!(A)\n",
       "6\n",
       "\n",
       "julia> A\n",
       "5-element Array{Int64,1}:\n",
       " 1\n",
       " 2\n",
       " 3\n",
       " 4\n",
       " 5\n",
       "```\n"
      ],
      "text/plain": [
       "```\n",
       "pop!(collection, key[, default])\n",
       "```\n",
       "\n",
       "Delete and return the mapping for `key` if it exists in `collection`, otherwise return `default`, or throw an error if default is not specified.\n",
       "\n",
       "```\n",
       "pop!(collection) -> item\n",
       "```\n",
       "\n",
       "Remove the last item in `collection` and return it.\n",
       "\n",
       "```jldoctest\n",
       "julia> A=[1, 2, 3, 4, 5, 6]\n",
       "6-element Array{Int64,1}:\n",
       " 1\n",
       " 2\n",
       " 3\n",
       " 4\n",
       " 5\n",
       " 6\n",
       "\n",
       "julia> pop!(A)\n",
       "6\n",
       "\n",
       "julia> A\n",
       "5-element Array{Int64,1}:\n",
       " 1\n",
       " 2\n",
       " 3\n",
       " 4\n",
       " 5\n",
       "```\n"
      ]
     },
     "execution_count": 4,
     "metadata": {},
     "output_type": "execute_result"
    }
   ],
   "source": [
    "?pop!"
   ]
  },
  {
   "cell_type": "code",
   "execution_count": 6,
   "metadata": {
    "collapsed": false
   },
   "outputs": [
    {
     "data": {
      "text/plain": [
       "4"
      ]
     },
     "execution_count": 6,
     "metadata": {},
     "output_type": "execute_result"
    }
   ],
   "source": [
    "pop!(z)"
   ]
  },
  {
   "cell_type": "code",
   "execution_count": 7,
   "metadata": {
    "collapsed": false
   },
   "outputs": [
    {
     "data": {
      "text/plain": [
       "3"
      ]
     },
     "execution_count": 7,
     "metadata": {},
     "output_type": "execute_result"
    }
   ],
   "source": [
    "pop!(z)"
   ]
  },
  {
   "cell_type": "code",
   "execution_count": 8,
   "metadata": {
    "collapsed": false
   },
   "outputs": [
    {
     "data": {
      "text/plain": [
       "3-element Array{Int64,1}:\n",
       " 1\n",
       " 2\n",
       " 3"
      ]
     },
     "execution_count": 8,
     "metadata": {},
     "output_type": "execute_result"
    }
   ],
   "source": [
    "push!(z, 3)"
   ]
  },
  {
   "cell_type": "code",
   "execution_count": 9,
   "metadata": {
    "collapsed": false
   },
   "outputs": [
    {
     "data": {
      "text/plain": [
       "3-element Array{Int64,1}:\n",
       " 1\n",
       " 2\n",
       " 3"
      ]
     },
     "execution_count": 9,
     "metadata": {},
     "output_type": "execute_result"
    }
   ],
   "source": [
    "z"
   ]
  },
  {
   "cell_type": "code",
   "execution_count": null,
   "metadata": {
    "collapsed": true
   },
   "outputs": [],
   "source": []
  }
 ],
 "metadata": {
  "kernelspec": {
   "display_name": "Julia 0.4.5",
   "language": "julia",
   "name": "julia-0.4"
  },
  "language_info": {
   "file_extension": ".jl",
   "mimetype": "application/julia",
   "name": "julia",
   "version": "0.4.5"
  }
 },
 "nbformat": 4,
 "nbformat_minor": 0
}
