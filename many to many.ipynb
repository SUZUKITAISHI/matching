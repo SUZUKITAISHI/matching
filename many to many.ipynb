{
 "cells": [
  {
   "cell_type": "code",
   "execution_count": 1,
   "metadata": {
    "collapsed": false
   },
   "outputs": [
    {
     "data": {
      "text/plain": [
       "6-element Array{Int64,1}:\n",
       "           8589934594\n",
       "           2147483649\n",
       "                    0\n",
       "                    0\n",
       " -9223372002495037440\n",
       "          34359738376"
      ]
     },
     "execution_count": 1,
     "metadata": {},
     "output_type": "execute_result"
    }
   ],
   "source": [
    "Array(Int, 6)"
   ]
  },
  {
   "cell_type": "code",
   "execution_count": 2,
   "metadata": {
    "collapsed": false
   },
   "outputs": [
    {
     "data": {
      "text/plain": [
       "Array{6,2}"
      ]
     },
     "execution_count": 2,
     "metadata": {},
     "output_type": "execute_result"
    }
   ],
   "source": [
    "Matrix{6}"
   ]
  },
  {
   "cell_type": "code",
   "execution_count": 3,
   "metadata": {
    "collapsed": false
   },
   "outputs": [
    {
     "name": "stdout",
     "output_type": "stream",
     "text": [
      "search: Matrix BitMatrix DenseMatrix SparseMatrix SharedMatrix SparseMatrixCSC\n",
      "\n"
     ]
    },
    {
     "data": {
      "text/latex": [
       "No documentation found.\n",
       "\\texttt{Base.Matrix} is of type \\texttt{TypeConstructor}:\n",
       "\\textbf{Summary:}\n",
       "\\begin{verbatim}\n",
       "immutable TypeConstructor <: Type{T}\n",
       "\\end{verbatim}\n",
       "\\textbf{Fields:}\n",
       "\\begin{verbatim}\n",
       "parameters :: SimpleVector\n",
       "body       :: Any\n",
       "\\end{verbatim}\n"
      ],
      "text/markdown": [
       "No documentation found.\n",
       "\n",
       "`Base.Matrix` is of type `TypeConstructor`:\n",
       "\n",
       "**Summary:**\n",
       "\n",
       "```julia\n",
       "immutable TypeConstructor <: Type{T}\n",
       "```\n",
       "\n",
       "**Fields:**\n",
       "\n",
       "```julia\n",
       "parameters :: SimpleVector\n",
       "body       :: Any\n",
       "```\n"
      ],
      "text/plain": [
       "No documentation found.\n",
       "\n",
       "`Base.Matrix` is of type `TypeConstructor`:\n",
       "\n",
       "**Summary:**\n",
       "\n",
       "```julia\n",
       "immutable TypeConstructor <: Type{T}\n",
       "```\n",
       "\n",
       "**Fields:**\n",
       "\n",
       "```julia\n",
       "parameters :: SimpleVector\n",
       "body       :: Any\n",
       "```\n"
      ]
     },
     "execution_count": 3,
     "metadata": {},
     "output_type": "execute_result"
    }
   ],
   "source": [
    "?Matrix"
   ]
  },
  {
   "cell_type": "code",
   "execution_count": 4,
   "metadata": {
    "collapsed": false
   },
   "outputs": [
    {
     "data": {
      "text/plain": [
       "Array{6,2}"
      ]
     },
     "execution_count": 4,
     "metadata": {},
     "output_type": "execute_result"
    }
   ],
   "source": [
    "Array{6, 2}"
   ]
  },
  {
   "cell_type": "code",
   "execution_count": 5,
   "metadata": {
    "collapsed": false
   },
   "outputs": [
    {
     "name": "stdout",
     "output_type": "stream",
     "text": [
      "search: size sizeof sizehint sizehint! Csize_t resize! filesize Cssize_t\n",
      "\n"
     ]
    },
    {
     "data": {
      "text/latex": [
       "\\begin{verbatim}\n",
       "size(A, [dim...])\n",
       "\\end{verbatim}\n",
       "Returns a tuple containing the dimensions of \\texttt{A}. Optionally you can specify the dimension(s) you want the length of, and get the length of that dimension, or a tuple of the lengths of dimensions you asked for.:\n",
       "\\begin{verbatim}\n",
       "julia> A = rand(2,3,4);\n",
       "\n",
       "julia> size(A, 2)\n",
       "3\n",
       "\n",
       "julia> size(A,3,2)\n",
       "(4,3)\n",
       "\\end{verbatim}\n"
      ],
      "text/markdown": [
       "```\n",
       "size(A, [dim...])\n",
       "```\n",
       "\n",
       "Returns a tuple containing the dimensions of `A`. Optionally you can specify the dimension(s) you want the length of, and get the length of that dimension, or a tuple of the lengths of dimensions you asked for.:\n",
       "\n",
       "```\n",
       "julia> A = rand(2,3,4);\n",
       "\n",
       "julia> size(A, 2)\n",
       "3\n",
       "\n",
       "julia> size(A,3,2)\n",
       "(4,3)\n",
       "```\n"
      ],
      "text/plain": [
       "```\n",
       "size(A, [dim...])\n",
       "```\n",
       "\n",
       "Returns a tuple containing the dimensions of `A`. Optionally you can specify the dimension(s) you want the length of, and get the length of that dimension, or a tuple of the lengths of dimensions you asked for.:\n",
       "\n",
       "```\n",
       "julia> A = rand(2,3,4);\n",
       "\n",
       "julia> size(A, 2)\n",
       "3\n",
       "\n",
       "julia> size(A,3,2)\n",
       "(4,3)\n",
       "```\n"
      ]
     },
     "execution_count": 5,
     "metadata": {},
     "output_type": "execute_result"
    }
   ],
   "source": [
    "?size"
   ]
  },
  {
   "cell_type": "code",
   "execution_count": 11,
   "metadata": {
    "collapsed": false
   },
   "outputs": [
    {
     "data": {
      "text/plain": [
       "Array{6,2}"
      ]
     },
     "execution_count": 11,
     "metadata": {},
     "output_type": "execute_result"
    }
   ],
   "source": [
    "A = Array{6, 2}"
   ]
  },
  {
   "cell_type": "code",
   "execution_count": 13,
   "metadata": {
    "collapsed": false
   },
   "outputs": [
    {
     "ename": "LoadError",
     "evalue": "LoadError: MethodError: `size` has no method matching size(::Type{Array{6,2}}, ::Int64)\nClosest candidates are:\n  size(::Any, ::Integer, !Matched::Integer, !Matched::Integer...)\n  size(!Matched::Tuple, ::Any)\n  size(!Matched::Number, ::Any)\n  ...\nwhile loading In[13], in expression starting on line 1",
     "output_type": "error",
     "traceback": [
      "LoadError: MethodError: `size` has no method matching size(::Type{Array{6,2}}, ::Int64)\nClosest candidates are:\n  size(::Any, ::Integer, !Matched::Integer, !Matched::Integer...)\n  size(!Matched::Tuple, ::Any)\n  size(!Matched::Number, ::Any)\n  ...\nwhile loading In[13], in expression starting on line 1",
      ""
     ]
    }
   ],
   "source": [
    "size(A, 2)"
   ]
  },
  {
   "cell_type": "code",
   "execution_count": null,
   "metadata": {
    "collapsed": true
   },
   "outputs": [],
   "source": []
  }
 ],
 "metadata": {
  "kernelspec": {
   "display_name": "Julia 0.4.6",
   "language": "julia",
   "name": "julia-0.4"
  },
  "language_info": {
   "file_extension": ".jl",
   "mimetype": "application/julia",
   "name": "julia",
   "version": "0.4.6"
  }
 },
 "nbformat": 4,
 "nbformat_minor": 0
}
