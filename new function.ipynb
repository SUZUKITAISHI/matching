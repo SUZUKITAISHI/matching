{
 "cells": [
  {
   "cell_type": "code",
   "execution_count": 1,
   "metadata": {
    "collapsed": false
   },
   "outputs": [
    {
     "data": {
      "text/plain": [
       "my_Gale_Shap (generic function with 1 method)"
      ]
     },
     "execution_count": 1,
     "metadata": {},
     "output_type": "execute_result"
    }
   ],
   "source": [
    "function my_Gale_Shap{T<:Int64}(m_prefs::AbstractArray{T, 2}, f_prefs::AbstractArray{T, 2})\n",
    "    m = size(m_prefs, 2)\n",
    "    n = size(f_prefs, 2)\n",
    "    m_matched = zeros(Int64, m)\n",
    "    f_matched = zeros(Int64, n)\n",
    "    m_pool = collect(1:m)\n",
    "    \n",
    "    while length(m_pool) != 0\n",
    "        i = pop!(m_pool)\n",
    "        \n",
    "        for j in m_prefs[:, i]\n",
    "            \n",
    "            if j == 0\n",
    "                m_matched[i] = 0\n",
    "                break\n",
    "                \n",
    "            else\n",
    "                if findnext(f_prefs[:, j], f_matched[j], 1) > findnext(f_prefs[:, j], i, 1)\n",
    "                    if f_matched[j] == 0\n",
    "                        m_matched[i] = j\n",
    "                        f_matched[j] = i\n",
    "                        break\n",
    "                        \n",
    "                    else\n",
    "                        push!(m_pool, f_matched[j])\n",
    "                        m_matched[i] = j\n",
    "                        f_matched[j] = i\n",
    "                        break\n",
    "                    end\n",
    "                else\n",
    "                    m_matched[i] = m_matched[i]\n",
    "                    f_matched[j] = f_matched[j]\n",
    "                end\n",
    "            end\n",
    "        end\n",
    "    end\n",
    "    return m_matched, f_matched\n",
    "end"
   ]
  },
  {
   "cell_type": "code",
   "execution_count": null,
   "metadata": {
    "collapsed": true
   },
   "outputs": [],
   "source": []
  }
 ],
 "metadata": {
  "kernelspec": {
   "display_name": "Julia 0.4.5",
   "language": "julia",
   "name": "julia-0.4"
  },
  "language_info": {
   "file_extension": ".jl",
   "mimetype": "application/julia",
   "name": "julia",
   "version": "0.4.5"
  }
 },
 "nbformat": 4,
 "nbformat_minor": 0
}
